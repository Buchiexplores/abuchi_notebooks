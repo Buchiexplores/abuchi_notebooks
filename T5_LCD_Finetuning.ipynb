{
  "nbformat": 4,
  "nbformat_minor": 0,
  "metadata": {
    "orig_nbformat": 4,
    "kernelspec": {
      "name": "python38-azureml",
      "language": "python",
      "display_name": "Python 3.8 - AzureML"
    },
    "interpreter": {
      "hash": "86b921dc5e07e5d4fdbb972bb24e624d84f1134ce66971fa1933e3c61f4a2795"
    },
    "language_info": {
      "name": "python",
      "version": "3.8.1",
      "mimetype": "text/x-python",
      "codemirror_mode": {
        "name": "ipython",
        "version": 3
      },
      "pygments_lexer": "ipython3",
      "nbconvert_exporter": "python",
      "file_extension": ".py"
    },
    "kernel_info": {
      "name": "python38-azureml"
    },
    "nteract": {
      "version": "nteract-front-end@1.0.0"
    },
    "colab": {
      "name": "T5_LCD_Finetuning.ipynb",
      "provenance": [],
      "collapsed_sections": [],
      "include_colab_link": true
    },
    "widgets": {
      "application/vnd.jupyter.widget-state+json": {
        "785077ff952d4207a93a978735c4a726": {
          "model_module": "@jupyter-widgets/controls",
          "model_name": "HBoxModel",
          "model_module_version": "1.5.0",
          "state": {
            "_view_name": "HBoxView",
            "_dom_classes": [],
            "_model_name": "HBoxModel",
            "_view_module": "@jupyter-widgets/controls",
            "_model_module_version": "1.5.0",
            "_view_count": null,
            "_view_module_version": "1.5.0",
            "box_style": "",
            "layout": "IPY_MODEL_6c359f9790e24822878268f56202d3f1",
            "_model_module": "@jupyter-widgets/controls",
            "children": [
              "IPY_MODEL_7a8acdcc50904ce1807af7d39d407035",
              "IPY_MODEL_2ff2fe9b62784e5086493418616ecb88",
              "IPY_MODEL_64bdeac8c835495ea442818265165add"
            ]
          }
        },
        "6c359f9790e24822878268f56202d3f1": {
          "model_module": "@jupyter-widgets/base",
          "model_name": "LayoutModel",
          "model_module_version": "1.2.0",
          "state": {
            "_view_name": "LayoutView",
            "grid_template_rows": null,
            "right": null,
            "justify_content": null,
            "_view_module": "@jupyter-widgets/base",
            "overflow": null,
            "_model_module_version": "1.2.0",
            "_view_count": null,
            "flex_flow": "row wrap",
            "width": "100%",
            "min_width": null,
            "border": null,
            "align_items": null,
            "bottom": null,
            "_model_module": "@jupyter-widgets/base",
            "top": null,
            "grid_column": null,
            "overflow_y": null,
            "overflow_x": null,
            "grid_auto_flow": null,
            "grid_area": null,
            "grid_template_columns": null,
            "flex": null,
            "_model_name": "LayoutModel",
            "justify_items": null,
            "grid_row": null,
            "max_height": null,
            "align_content": null,
            "visibility": null,
            "align_self": null,
            "height": null,
            "min_height": null,
            "padding": null,
            "grid_auto_rows": null,
            "grid_gap": null,
            "max_width": null,
            "order": null,
            "_view_module_version": "1.2.0",
            "grid_template_areas": null,
            "object_position": null,
            "object_fit": null,
            "grid_auto_columns": null,
            "margin": null,
            "display": "inline-flex",
            "left": null
          }
        },
        "7a8acdcc50904ce1807af7d39d407035": {
          "model_module": "@jupyter-widgets/controls",
          "model_name": "HTMLModel",
          "model_module_version": "1.5.0",
          "state": {
            "_view_name": "HTMLView",
            "style": "IPY_MODEL_1561c801befa4fb2aba66b15308c9855",
            "_dom_classes": [],
            "description": "",
            "_model_name": "HTMLModel",
            "placeholder": "​",
            "_view_module": "@jupyter-widgets/controls",
            "_model_module_version": "1.5.0",
            "value": "Validation sanity check:   0%",
            "_view_count": null,
            "_view_module_version": "1.5.0",
            "description_tooltip": null,
            "_model_module": "@jupyter-widgets/controls",
            "layout": "IPY_MODEL_fde812a8b1284225b68614faaf4bb425"
          }
        },
        "2ff2fe9b62784e5086493418616ecb88": {
          "model_module": "@jupyter-widgets/controls",
          "model_name": "FloatProgressModel",
          "model_module_version": "1.5.0",
          "state": {
            "_view_name": "ProgressView",
            "style": "IPY_MODEL_82064c82a5e04779a799ab9e6512e5f2",
            "_dom_classes": [],
            "description": "",
            "_model_name": "FloatProgressModel",
            "bar_style": "danger",
            "max": 2,
            "_view_module": "@jupyter-widgets/controls",
            "_model_module_version": "1.5.0",
            "value": 0,
            "_view_count": null,
            "_view_module_version": "1.5.0",
            "orientation": "horizontal",
            "min": 0,
            "description_tooltip": null,
            "_model_module": "@jupyter-widgets/controls",
            "layout": "IPY_MODEL_9ee037553bab4551998bbafc17807aeb"
          }
        },
        "64bdeac8c835495ea442818265165add": {
          "model_module": "@jupyter-widgets/controls",
          "model_name": "HTMLModel",
          "model_module_version": "1.5.0",
          "state": {
            "_view_name": "HTMLView",
            "style": "IPY_MODEL_0e4a3066f3ba46fb9bc7501b85e8a262",
            "_dom_classes": [],
            "description": "",
            "_model_name": "HTMLModel",
            "placeholder": "​",
            "_view_module": "@jupyter-widgets/controls",
            "_model_module_version": "1.5.0",
            "value": " 0/2 [00:00&lt;?, ?it/s]",
            "_view_count": null,
            "_view_module_version": "1.5.0",
            "description_tooltip": null,
            "_model_module": "@jupyter-widgets/controls",
            "layout": "IPY_MODEL_22f439b86a834a35b1eb3116c38dedbc"
          }
        },
        "1561c801befa4fb2aba66b15308c9855": {
          "model_module": "@jupyter-widgets/controls",
          "model_name": "DescriptionStyleModel",
          "model_module_version": "1.5.0",
          "state": {
            "_view_name": "StyleView",
            "_model_name": "DescriptionStyleModel",
            "description_width": "",
            "_view_module": "@jupyter-widgets/base",
            "_model_module_version": "1.5.0",
            "_view_count": null,
            "_view_module_version": "1.2.0",
            "_model_module": "@jupyter-widgets/controls"
          }
        },
        "fde812a8b1284225b68614faaf4bb425": {
          "model_module": "@jupyter-widgets/base",
          "model_name": "LayoutModel",
          "model_module_version": "1.2.0",
          "state": {
            "_view_name": "LayoutView",
            "grid_template_rows": null,
            "right": null,
            "justify_content": null,
            "_view_module": "@jupyter-widgets/base",
            "overflow": null,
            "_model_module_version": "1.2.0",
            "_view_count": null,
            "flex_flow": null,
            "width": null,
            "min_width": null,
            "border": null,
            "align_items": null,
            "bottom": null,
            "_model_module": "@jupyter-widgets/base",
            "top": null,
            "grid_column": null,
            "overflow_y": null,
            "overflow_x": null,
            "grid_auto_flow": null,
            "grid_area": null,
            "grid_template_columns": null,
            "flex": null,
            "_model_name": "LayoutModel",
            "justify_items": null,
            "grid_row": null,
            "max_height": null,
            "align_content": null,
            "visibility": null,
            "align_self": null,
            "height": null,
            "min_height": null,
            "padding": null,
            "grid_auto_rows": null,
            "grid_gap": null,
            "max_width": null,
            "order": null,
            "_view_module_version": "1.2.0",
            "grid_template_areas": null,
            "object_position": null,
            "object_fit": null,
            "grid_auto_columns": null,
            "margin": null,
            "display": null,
            "left": null
          }
        },
        "82064c82a5e04779a799ab9e6512e5f2": {
          "model_module": "@jupyter-widgets/controls",
          "model_name": "ProgressStyleModel",
          "model_module_version": "1.5.0",
          "state": {
            "_view_name": "StyleView",
            "_model_name": "ProgressStyleModel",
            "description_width": "",
            "_view_module": "@jupyter-widgets/base",
            "_model_module_version": "1.5.0",
            "_view_count": null,
            "_view_module_version": "1.2.0",
            "bar_color": null,
            "_model_module": "@jupyter-widgets/controls"
          }
        },
        "9ee037553bab4551998bbafc17807aeb": {
          "model_module": "@jupyter-widgets/base",
          "model_name": "LayoutModel",
          "model_module_version": "1.2.0",
          "state": {
            "_view_name": "LayoutView",
            "grid_template_rows": null,
            "right": null,
            "justify_content": null,
            "_view_module": "@jupyter-widgets/base",
            "overflow": null,
            "_model_module_version": "1.2.0",
            "_view_count": null,
            "flex_flow": null,
            "width": null,
            "min_width": null,
            "border": null,
            "align_items": null,
            "bottom": null,
            "_model_module": "@jupyter-widgets/base",
            "top": null,
            "grid_column": null,
            "overflow_y": null,
            "overflow_x": null,
            "grid_auto_flow": null,
            "grid_area": null,
            "grid_template_columns": null,
            "flex": "2",
            "_model_name": "LayoutModel",
            "justify_items": null,
            "grid_row": null,
            "max_height": null,
            "align_content": null,
            "visibility": null,
            "align_self": null,
            "height": null,
            "min_height": null,
            "padding": null,
            "grid_auto_rows": null,
            "grid_gap": null,
            "max_width": null,
            "order": null,
            "_view_module_version": "1.2.0",
            "grid_template_areas": null,
            "object_position": null,
            "object_fit": null,
            "grid_auto_columns": null,
            "margin": null,
            "display": null,
            "left": null
          }
        },
        "0e4a3066f3ba46fb9bc7501b85e8a262": {
          "model_module": "@jupyter-widgets/controls",
          "model_name": "DescriptionStyleModel",
          "model_module_version": "1.5.0",
          "state": {
            "_view_name": "StyleView",
            "_model_name": "DescriptionStyleModel",
            "description_width": "",
            "_view_module": "@jupyter-widgets/base",
            "_model_module_version": "1.5.0",
            "_view_count": null,
            "_view_module_version": "1.2.0",
            "_model_module": "@jupyter-widgets/controls"
          }
        },
        "22f439b86a834a35b1eb3116c38dedbc": {
          "model_module": "@jupyter-widgets/base",
          "model_name": "LayoutModel",
          "model_module_version": "1.2.0",
          "state": {
            "_view_name": "LayoutView",
            "grid_template_rows": null,
            "right": null,
            "justify_content": null,
            "_view_module": "@jupyter-widgets/base",
            "overflow": null,
            "_model_module_version": "1.2.0",
            "_view_count": null,
            "flex_flow": null,
            "width": null,
            "min_width": null,
            "border": null,
            "align_items": null,
            "bottom": null,
            "_model_module": "@jupyter-widgets/base",
            "top": null,
            "grid_column": null,
            "overflow_y": null,
            "overflow_x": null,
            "grid_auto_flow": null,
            "grid_area": null,
            "grid_template_columns": null,
            "flex": null,
            "_model_name": "LayoutModel",
            "justify_items": null,
            "grid_row": null,
            "max_height": null,
            "align_content": null,
            "visibility": null,
            "align_self": null,
            "height": null,
            "min_height": null,
            "padding": null,
            "grid_auto_rows": null,
            "grid_gap": null,
            "max_width": null,
            "order": null,
            "_view_module_version": "1.2.0",
            "grid_template_areas": null,
            "object_position": null,
            "object_fit": null,
            "grid_auto_columns": null,
            "margin": null,
            "display": null,
            "left": null
          }
        },
        "0da3a332b796463394c7441ba28aad14": {
          "model_module": "@jupyter-widgets/controls",
          "model_name": "HBoxModel",
          "model_module_version": "1.5.0",
          "state": {
            "_view_name": "HBoxView",
            "_dom_classes": [],
            "_model_name": "HBoxModel",
            "_view_module": "@jupyter-widgets/controls",
            "_model_module_version": "1.5.0",
            "_view_count": null,
            "_view_module_version": "1.5.0",
            "box_style": "",
            "layout": "IPY_MODEL_449330691c7e4d798e34225100746194",
            "_model_module": "@jupyter-widgets/controls",
            "children": [
              "IPY_MODEL_d5d6dea4865349488b975ee3f1bda9f9",
              "IPY_MODEL_4b9d7bd81c31478b9c3c6556d183a813",
              "IPY_MODEL_71234e1fcc28476d8861b2e058bc3d6c"
            ]
          }
        },
        "449330691c7e4d798e34225100746194": {
          "model_module": "@jupyter-widgets/base",
          "model_name": "LayoutModel",
          "model_module_version": "1.2.0",
          "state": {
            "_view_name": "LayoutView",
            "grid_template_rows": null,
            "right": null,
            "justify_content": null,
            "_view_module": "@jupyter-widgets/base",
            "overflow": null,
            "_model_module_version": "1.2.0",
            "_view_count": null,
            "flex_flow": "row wrap",
            "width": "100%",
            "min_width": null,
            "border": null,
            "align_items": null,
            "bottom": null,
            "_model_module": "@jupyter-widgets/base",
            "top": null,
            "grid_column": null,
            "overflow_y": null,
            "overflow_x": null,
            "grid_auto_flow": null,
            "grid_area": null,
            "grid_template_columns": null,
            "flex": null,
            "_model_name": "LayoutModel",
            "justify_items": null,
            "grid_row": null,
            "max_height": null,
            "align_content": null,
            "visibility": null,
            "align_self": null,
            "height": null,
            "min_height": null,
            "padding": null,
            "grid_auto_rows": null,
            "grid_gap": null,
            "max_width": null,
            "order": null,
            "_view_module_version": "1.2.0",
            "grid_template_areas": null,
            "object_position": null,
            "object_fit": null,
            "grid_auto_columns": null,
            "margin": null,
            "display": "inline-flex",
            "left": null
          }
        },
        "d5d6dea4865349488b975ee3f1bda9f9": {
          "model_module": "@jupyter-widgets/controls",
          "model_name": "HTMLModel",
          "model_module_version": "1.5.0",
          "state": {
            "_view_name": "HTMLView",
            "style": "IPY_MODEL_e39977e8b1a241cdb7c3b0c61b301faf",
            "_dom_classes": [],
            "description": "",
            "_model_name": "HTMLModel",
            "placeholder": "​",
            "_view_module": "@jupyter-widgets/controls",
            "_model_module_version": "1.5.0",
            "value": "Epoch 1: 100%",
            "_view_count": null,
            "_view_module_version": "1.5.0",
            "description_tooltip": null,
            "_model_module": "@jupyter-widgets/controls",
            "layout": "IPY_MODEL_a0e1be844dfd4e228d8fa6fc49aa3d1a"
          }
        },
        "4b9d7bd81c31478b9c3c6556d183a813": {
          "model_module": "@jupyter-widgets/controls",
          "model_name": "FloatProgressModel",
          "model_module_version": "1.5.0",
          "state": {
            "_view_name": "ProgressView",
            "style": "IPY_MODEL_65b6df40a20d4beca09474f7c4fdea2c",
            "_dom_classes": [],
            "description": "",
            "_model_name": "FloatProgressModel",
            "bar_style": "success",
            "max": 804,
            "_view_module": "@jupyter-widgets/controls",
            "_model_module_version": "1.5.0",
            "value": 804,
            "_view_count": null,
            "_view_module_version": "1.5.0",
            "orientation": "horizontal",
            "min": 0,
            "description_tooltip": null,
            "_model_module": "@jupyter-widgets/controls",
            "layout": "IPY_MODEL_da98171fec664d61bb91c2e1af7ce7a5"
          }
        },
        "71234e1fcc28476d8861b2e058bc3d6c": {
          "model_module": "@jupyter-widgets/controls",
          "model_name": "HTMLModel",
          "model_module_version": "1.5.0",
          "state": {
            "_view_name": "HTMLView",
            "style": "IPY_MODEL_727db4b4645948e9856cdc035cde9b2f",
            "_dom_classes": [],
            "description": "",
            "_model_name": "HTMLModel",
            "placeholder": "​",
            "_view_module": "@jupyter-widgets/controls",
            "_model_module_version": "1.5.0",
            "value": " 804/804 [03:44&lt;00:00,  3.59it/s, loss=0.0621, v_num=14]",
            "_view_count": null,
            "_view_module_version": "1.5.0",
            "description_tooltip": null,
            "_model_module": "@jupyter-widgets/controls",
            "layout": "IPY_MODEL_bdf664c6a05240958e92d0da9d9d0bcc"
          }
        },
        "e39977e8b1a241cdb7c3b0c61b301faf": {
          "model_module": "@jupyter-widgets/controls",
          "model_name": "DescriptionStyleModel",
          "model_module_version": "1.5.0",
          "state": {
            "_view_name": "StyleView",
            "_model_name": "DescriptionStyleModel",
            "description_width": "",
            "_view_module": "@jupyter-widgets/base",
            "_model_module_version": "1.5.0",
            "_view_count": null,
            "_view_module_version": "1.2.0",
            "_model_module": "@jupyter-widgets/controls"
          }
        },
        "a0e1be844dfd4e228d8fa6fc49aa3d1a": {
          "model_module": "@jupyter-widgets/base",
          "model_name": "LayoutModel",
          "model_module_version": "1.2.0",
          "state": {
            "_view_name": "LayoutView",
            "grid_template_rows": null,
            "right": null,
            "justify_content": null,
            "_view_module": "@jupyter-widgets/base",
            "overflow": null,
            "_model_module_version": "1.2.0",
            "_view_count": null,
            "flex_flow": null,
            "width": null,
            "min_width": null,
            "border": null,
            "align_items": null,
            "bottom": null,
            "_model_module": "@jupyter-widgets/base",
            "top": null,
            "grid_column": null,
            "overflow_y": null,
            "overflow_x": null,
            "grid_auto_flow": null,
            "grid_area": null,
            "grid_template_columns": null,
            "flex": null,
            "_model_name": "LayoutModel",
            "justify_items": null,
            "grid_row": null,
            "max_height": null,
            "align_content": null,
            "visibility": null,
            "align_self": null,
            "height": null,
            "min_height": null,
            "padding": null,
            "grid_auto_rows": null,
            "grid_gap": null,
            "max_width": null,
            "order": null,
            "_view_module_version": "1.2.0",
            "grid_template_areas": null,
            "object_position": null,
            "object_fit": null,
            "grid_auto_columns": null,
            "margin": null,
            "display": null,
            "left": null
          }
        },
        "65b6df40a20d4beca09474f7c4fdea2c": {
          "model_module": "@jupyter-widgets/controls",
          "model_name": "ProgressStyleModel",
          "model_module_version": "1.5.0",
          "state": {
            "_view_name": "StyleView",
            "_model_name": "ProgressStyleModel",
            "description_width": "",
            "_view_module": "@jupyter-widgets/base",
            "_model_module_version": "1.5.0",
            "_view_count": null,
            "_view_module_version": "1.2.0",
            "bar_color": null,
            "_model_module": "@jupyter-widgets/controls"
          }
        },
        "da98171fec664d61bb91c2e1af7ce7a5": {
          "model_module": "@jupyter-widgets/base",
          "model_name": "LayoutModel",
          "model_module_version": "1.2.0",
          "state": {
            "_view_name": "LayoutView",
            "grid_template_rows": null,
            "right": null,
            "justify_content": null,
            "_view_module": "@jupyter-widgets/base",
            "overflow": null,
            "_model_module_version": "1.2.0",
            "_view_count": null,
            "flex_flow": null,
            "width": null,
            "min_width": null,
            "border": null,
            "align_items": null,
            "bottom": null,
            "_model_module": "@jupyter-widgets/base",
            "top": null,
            "grid_column": null,
            "overflow_y": null,
            "overflow_x": null,
            "grid_auto_flow": null,
            "grid_area": null,
            "grid_template_columns": null,
            "flex": "2",
            "_model_name": "LayoutModel",
            "justify_items": null,
            "grid_row": null,
            "max_height": null,
            "align_content": null,
            "visibility": null,
            "align_self": null,
            "height": null,
            "min_height": null,
            "padding": null,
            "grid_auto_rows": null,
            "grid_gap": null,
            "max_width": null,
            "order": null,
            "_view_module_version": "1.2.0",
            "grid_template_areas": null,
            "object_position": null,
            "object_fit": null,
            "grid_auto_columns": null,
            "margin": null,
            "display": null,
            "left": null
          }
        },
        "727db4b4645948e9856cdc035cde9b2f": {
          "model_module": "@jupyter-widgets/controls",
          "model_name": "DescriptionStyleModel",
          "model_module_version": "1.5.0",
          "state": {
            "_view_name": "StyleView",
            "_model_name": "DescriptionStyleModel",
            "description_width": "",
            "_view_module": "@jupyter-widgets/base",
            "_model_module_version": "1.5.0",
            "_view_count": null,
            "_view_module_version": "1.2.0",
            "_model_module": "@jupyter-widgets/controls"
          }
        },
        "bdf664c6a05240958e92d0da9d9d0bcc": {
          "model_module": "@jupyter-widgets/base",
          "model_name": "LayoutModel",
          "model_module_version": "1.2.0",
          "state": {
            "_view_name": "LayoutView",
            "grid_template_rows": null,
            "right": null,
            "justify_content": null,
            "_view_module": "@jupyter-widgets/base",
            "overflow": null,
            "_model_module_version": "1.2.0",
            "_view_count": null,
            "flex_flow": null,
            "width": null,
            "min_width": null,
            "border": null,
            "align_items": null,
            "bottom": null,
            "_model_module": "@jupyter-widgets/base",
            "top": null,
            "grid_column": null,
            "overflow_y": null,
            "overflow_x": null,
            "grid_auto_flow": null,
            "grid_area": null,
            "grid_template_columns": null,
            "flex": null,
            "_model_name": "LayoutModel",
            "justify_items": null,
            "grid_row": null,
            "max_height": null,
            "align_content": null,
            "visibility": null,
            "align_self": null,
            "height": null,
            "min_height": null,
            "padding": null,
            "grid_auto_rows": null,
            "grid_gap": null,
            "max_width": null,
            "order": null,
            "_view_module_version": "1.2.0",
            "grid_template_areas": null,
            "object_position": null,
            "object_fit": null,
            "grid_auto_columns": null,
            "margin": null,
            "display": null,
            "left": null
          }
        },
        "32c25375fc104f64be9e7e1a1dfeecd1": {
          "model_module": "@jupyter-widgets/controls",
          "model_name": "HBoxModel",
          "model_module_version": "1.5.0",
          "state": {
            "_view_name": "HBoxView",
            "_dom_classes": [],
            "_model_name": "HBoxModel",
            "_view_module": "@jupyter-widgets/controls",
            "_model_module_version": "1.5.0",
            "_view_count": null,
            "_view_module_version": "1.5.0",
            "box_style": "",
            "layout": "IPY_MODEL_2d28a9686a2c46299695639aa52f5ec4",
            "_model_module": "@jupyter-widgets/controls",
            "children": [
              "IPY_MODEL_0536e84c48a344808562c48578333120",
              "IPY_MODEL_26623bd77c004894b054b6e2ecfbd650",
              "IPY_MODEL_9a54c0fa958645c5b61c8ae2a37416c7"
            ]
          }
        },
        "2d28a9686a2c46299695639aa52f5ec4": {
          "model_module": "@jupyter-widgets/base",
          "model_name": "LayoutModel",
          "model_module_version": "1.2.0",
          "state": {
            "_view_name": "LayoutView",
            "grid_template_rows": null,
            "right": null,
            "justify_content": null,
            "_view_module": "@jupyter-widgets/base",
            "overflow": null,
            "_model_module_version": "1.2.0",
            "_view_count": null,
            "flex_flow": "row wrap",
            "width": "100%",
            "min_width": null,
            "border": null,
            "align_items": null,
            "bottom": null,
            "_model_module": "@jupyter-widgets/base",
            "top": null,
            "grid_column": null,
            "overflow_y": null,
            "overflow_x": null,
            "grid_auto_flow": null,
            "grid_area": null,
            "grid_template_columns": null,
            "flex": null,
            "_model_name": "LayoutModel",
            "justify_items": null,
            "grid_row": null,
            "max_height": null,
            "align_content": null,
            "visibility": null,
            "align_self": null,
            "height": null,
            "min_height": null,
            "padding": null,
            "grid_auto_rows": null,
            "grid_gap": null,
            "max_width": null,
            "order": null,
            "_view_module_version": "1.2.0",
            "grid_template_areas": null,
            "object_position": null,
            "object_fit": null,
            "grid_auto_columns": null,
            "margin": null,
            "display": "inline-flex",
            "left": null
          }
        },
        "0536e84c48a344808562c48578333120": {
          "model_module": "@jupyter-widgets/controls",
          "model_name": "HTMLModel",
          "model_module_version": "1.5.0",
          "state": {
            "_view_name": "HTMLView",
            "style": "IPY_MODEL_a0cbcdd6e21d4428b00408db9c0c5dfd",
            "_dom_classes": [],
            "description": "",
            "_model_name": "HTMLModel",
            "placeholder": "​",
            "_view_module": "@jupyter-widgets/controls",
            "_model_module_version": "1.5.0",
            "value": "Validating: 100%",
            "_view_count": null,
            "_view_module_version": "1.5.0",
            "description_tooltip": null,
            "_model_module": "@jupyter-widgets/controls",
            "layout": "IPY_MODEL_ed01abe244c44b7a9d8ae55028559019"
          }
        },
        "26623bd77c004894b054b6e2ecfbd650": {
          "model_module": "@jupyter-widgets/controls",
          "model_name": "FloatProgressModel",
          "model_module_version": "1.5.0",
          "state": {
            "_view_name": "ProgressView",
            "style": "IPY_MODEL_646576f0f6fb490cb93d52f54bcb90e6",
            "_dom_classes": [],
            "description": "",
            "_model_name": "FloatProgressModel",
            "bar_style": "",
            "max": 402,
            "_view_module": "@jupyter-widgets/controls",
            "_model_module_version": "1.5.0",
            "value": 402,
            "_view_count": null,
            "_view_module_version": "1.5.0",
            "orientation": "horizontal",
            "min": 0,
            "description_tooltip": null,
            "_model_module": "@jupyter-widgets/controls",
            "layout": "IPY_MODEL_a3b525cf6c644097bfcc3decc485918e"
          }
        },
        "9a54c0fa958645c5b61c8ae2a37416c7": {
          "model_module": "@jupyter-widgets/controls",
          "model_name": "HTMLModel",
          "model_module_version": "1.5.0",
          "state": {
            "_view_name": "HTMLView",
            "style": "IPY_MODEL_7e64f292cbd1444e9c3049c17235fd6a",
            "_dom_classes": [],
            "description": "",
            "_model_name": "HTMLModel",
            "placeholder": "​",
            "_view_module": "@jupyter-widgets/controls",
            "_model_module_version": "1.5.0",
            "value": " 402/402 [00:45&lt;00:00,  8.76it/s]",
            "_view_count": null,
            "_view_module_version": "1.5.0",
            "description_tooltip": null,
            "_model_module": "@jupyter-widgets/controls",
            "layout": "IPY_MODEL_9a68e13259074ab7940b4a372717000d"
          }
        },
        "a0cbcdd6e21d4428b00408db9c0c5dfd": {
          "model_module": "@jupyter-widgets/controls",
          "model_name": "DescriptionStyleModel",
          "model_module_version": "1.5.0",
          "state": {
            "_view_name": "StyleView",
            "_model_name": "DescriptionStyleModel",
            "description_width": "",
            "_view_module": "@jupyter-widgets/base",
            "_model_module_version": "1.5.0",
            "_view_count": null,
            "_view_module_version": "1.2.0",
            "_model_module": "@jupyter-widgets/controls"
          }
        },
        "ed01abe244c44b7a9d8ae55028559019": {
          "model_module": "@jupyter-widgets/base",
          "model_name": "LayoutModel",
          "model_module_version": "1.2.0",
          "state": {
            "_view_name": "LayoutView",
            "grid_template_rows": null,
            "right": null,
            "justify_content": null,
            "_view_module": "@jupyter-widgets/base",
            "overflow": null,
            "_model_module_version": "1.2.0",
            "_view_count": null,
            "flex_flow": null,
            "width": null,
            "min_width": null,
            "border": null,
            "align_items": null,
            "bottom": null,
            "_model_module": "@jupyter-widgets/base",
            "top": null,
            "grid_column": null,
            "overflow_y": null,
            "overflow_x": null,
            "grid_auto_flow": null,
            "grid_area": null,
            "grid_template_columns": null,
            "flex": null,
            "_model_name": "LayoutModel",
            "justify_items": null,
            "grid_row": null,
            "max_height": null,
            "align_content": null,
            "visibility": null,
            "align_self": null,
            "height": null,
            "min_height": null,
            "padding": null,
            "grid_auto_rows": null,
            "grid_gap": null,
            "max_width": null,
            "order": null,
            "_view_module_version": "1.2.0",
            "grid_template_areas": null,
            "object_position": null,
            "object_fit": null,
            "grid_auto_columns": null,
            "margin": null,
            "display": null,
            "left": null
          }
        },
        "646576f0f6fb490cb93d52f54bcb90e6": {
          "model_module": "@jupyter-widgets/controls",
          "model_name": "ProgressStyleModel",
          "model_module_version": "1.5.0",
          "state": {
            "_view_name": "StyleView",
            "_model_name": "ProgressStyleModel",
            "description_width": "",
            "_view_module": "@jupyter-widgets/base",
            "_model_module_version": "1.5.0",
            "_view_count": null,
            "_view_module_version": "1.2.0",
            "bar_color": null,
            "_model_module": "@jupyter-widgets/controls"
          }
        },
        "a3b525cf6c644097bfcc3decc485918e": {
          "model_module": "@jupyter-widgets/base",
          "model_name": "LayoutModel",
          "model_module_version": "1.2.0",
          "state": {
            "_view_name": "LayoutView",
            "grid_template_rows": null,
            "right": null,
            "justify_content": null,
            "_view_module": "@jupyter-widgets/base",
            "overflow": null,
            "_model_module_version": "1.2.0",
            "_view_count": null,
            "flex_flow": null,
            "width": null,
            "min_width": null,
            "border": null,
            "align_items": null,
            "bottom": null,
            "_model_module": "@jupyter-widgets/base",
            "top": null,
            "grid_column": null,
            "overflow_y": null,
            "overflow_x": null,
            "grid_auto_flow": null,
            "grid_area": null,
            "grid_template_columns": null,
            "flex": "2",
            "_model_name": "LayoutModel",
            "justify_items": null,
            "grid_row": null,
            "max_height": null,
            "align_content": null,
            "visibility": null,
            "align_self": null,
            "height": null,
            "min_height": null,
            "padding": null,
            "grid_auto_rows": null,
            "grid_gap": null,
            "max_width": null,
            "order": null,
            "_view_module_version": "1.2.0",
            "grid_template_areas": null,
            "object_position": null,
            "object_fit": null,
            "grid_auto_columns": null,
            "margin": null,
            "display": null,
            "left": null
          }
        },
        "7e64f292cbd1444e9c3049c17235fd6a": {
          "model_module": "@jupyter-widgets/controls",
          "model_name": "DescriptionStyleModel",
          "model_module_version": "1.5.0",
          "state": {
            "_view_name": "StyleView",
            "_model_name": "DescriptionStyleModel",
            "description_width": "",
            "_view_module": "@jupyter-widgets/base",
            "_model_module_version": "1.5.0",
            "_view_count": null,
            "_view_module_version": "1.2.0",
            "_model_module": "@jupyter-widgets/controls"
          }
        },
        "9a68e13259074ab7940b4a372717000d": {
          "model_module": "@jupyter-widgets/base",
          "model_name": "LayoutModel",
          "model_module_version": "1.2.0",
          "state": {
            "_view_name": "LayoutView",
            "grid_template_rows": null,
            "right": null,
            "justify_content": null,
            "_view_module": "@jupyter-widgets/base",
            "overflow": null,
            "_model_module_version": "1.2.0",
            "_view_count": null,
            "flex_flow": null,
            "width": null,
            "min_width": null,
            "border": null,
            "align_items": null,
            "bottom": null,
            "_model_module": "@jupyter-widgets/base",
            "top": null,
            "grid_column": null,
            "overflow_y": null,
            "overflow_x": null,
            "grid_auto_flow": null,
            "grid_area": null,
            "grid_template_columns": null,
            "flex": null,
            "_model_name": "LayoutModel",
            "justify_items": null,
            "grid_row": null,
            "max_height": null,
            "align_content": null,
            "visibility": null,
            "align_self": null,
            "height": null,
            "min_height": null,
            "padding": null,
            "grid_auto_rows": null,
            "grid_gap": null,
            "max_width": null,
            "order": null,
            "_view_module_version": "1.2.0",
            "grid_template_areas": null,
            "object_position": null,
            "object_fit": null,
            "grid_auto_columns": null,
            "margin": null,
            "display": null,
            "left": null
          }
        },
        "6dec4b3cc297497bb38656f2ea125a31": {
          "model_module": "@jupyter-widgets/controls",
          "model_name": "HBoxModel",
          "model_module_version": "1.5.0",
          "state": {
            "_view_name": "HBoxView",
            "_dom_classes": [],
            "_model_name": "HBoxModel",
            "_view_module": "@jupyter-widgets/controls",
            "_model_module_version": "1.5.0",
            "_view_count": null,
            "_view_module_version": "1.5.0",
            "box_style": "",
            "layout": "IPY_MODEL_379bbd86a7ba4a008f2e1e8943bfef21",
            "_model_module": "@jupyter-widgets/controls",
            "children": [
              "IPY_MODEL_292938323e384a9696001c055d1ac9c1",
              "IPY_MODEL_474379d454a9475ea2a474a5d33b1d76",
              "IPY_MODEL_e60243b3035e4e7191480bff445fb6dc"
            ]
          }
        },
        "379bbd86a7ba4a008f2e1e8943bfef21": {
          "model_module": "@jupyter-widgets/base",
          "model_name": "LayoutModel",
          "model_module_version": "1.2.0",
          "state": {
            "_view_name": "LayoutView",
            "grid_template_rows": null,
            "right": null,
            "justify_content": null,
            "_view_module": "@jupyter-widgets/base",
            "overflow": null,
            "_model_module_version": "1.2.0",
            "_view_count": null,
            "flex_flow": "row wrap",
            "width": "100%",
            "min_width": null,
            "border": null,
            "align_items": null,
            "bottom": null,
            "_model_module": "@jupyter-widgets/base",
            "top": null,
            "grid_column": null,
            "overflow_y": null,
            "overflow_x": null,
            "grid_auto_flow": null,
            "grid_area": null,
            "grid_template_columns": null,
            "flex": null,
            "_model_name": "LayoutModel",
            "justify_items": null,
            "grid_row": null,
            "max_height": null,
            "align_content": null,
            "visibility": null,
            "align_self": null,
            "height": null,
            "min_height": null,
            "padding": null,
            "grid_auto_rows": null,
            "grid_gap": null,
            "max_width": null,
            "order": null,
            "_view_module_version": "1.2.0",
            "grid_template_areas": null,
            "object_position": null,
            "object_fit": null,
            "grid_auto_columns": null,
            "margin": null,
            "display": "inline-flex",
            "left": null
          }
        },
        "292938323e384a9696001c055d1ac9c1": {
          "model_module": "@jupyter-widgets/controls",
          "model_name": "HTMLModel",
          "model_module_version": "1.5.0",
          "state": {
            "_view_name": "HTMLView",
            "style": "IPY_MODEL_a5c1c6721ae243879fc01fbb84537250",
            "_dom_classes": [],
            "description": "",
            "_model_name": "HTMLModel",
            "placeholder": "​",
            "_view_module": "@jupyter-widgets/controls",
            "_model_module_version": "1.5.0",
            "value": "Validating: 100%",
            "_view_count": null,
            "_view_module_version": "1.5.0",
            "description_tooltip": null,
            "_model_module": "@jupyter-widgets/controls",
            "layout": "IPY_MODEL_34f7eea6cca14cde9c3537c2c3583426"
          }
        },
        "474379d454a9475ea2a474a5d33b1d76": {
          "model_module": "@jupyter-widgets/controls",
          "model_name": "FloatProgressModel",
          "model_module_version": "1.5.0",
          "state": {
            "_view_name": "ProgressView",
            "style": "IPY_MODEL_f1dd594950ad4cbdb7bfdef9fbea04d7",
            "_dom_classes": [],
            "description": "",
            "_model_name": "FloatProgressModel",
            "bar_style": "",
            "max": 402,
            "_view_module": "@jupyter-widgets/controls",
            "_model_module_version": "1.5.0",
            "value": 402,
            "_view_count": null,
            "_view_module_version": "1.5.0",
            "orientation": "horizontal",
            "min": 0,
            "description_tooltip": null,
            "_model_module": "@jupyter-widgets/controls",
            "layout": "IPY_MODEL_99a66286f9db483285c8de6dfb99a9bf"
          }
        },
        "e60243b3035e4e7191480bff445fb6dc": {
          "model_module": "@jupyter-widgets/controls",
          "model_name": "HTMLModel",
          "model_module_version": "1.5.0",
          "state": {
            "_view_name": "HTMLView",
            "style": "IPY_MODEL_932a45938af244d8a8fef6870b181053",
            "_dom_classes": [],
            "description": "",
            "_model_name": "HTMLModel",
            "placeholder": "​",
            "_view_module": "@jupyter-widgets/controls",
            "_model_module_version": "1.5.0",
            "value": " 402/402 [00:45&lt;00:00,  8.79it/s]",
            "_view_count": null,
            "_view_module_version": "1.5.0",
            "description_tooltip": null,
            "_model_module": "@jupyter-widgets/controls",
            "layout": "IPY_MODEL_5b8e2cf802ed4923a4964e7e40e71cfc"
          }
        },
        "a5c1c6721ae243879fc01fbb84537250": {
          "model_module": "@jupyter-widgets/controls",
          "model_name": "DescriptionStyleModel",
          "model_module_version": "1.5.0",
          "state": {
            "_view_name": "StyleView",
            "_model_name": "DescriptionStyleModel",
            "description_width": "",
            "_view_module": "@jupyter-widgets/base",
            "_model_module_version": "1.5.0",
            "_view_count": null,
            "_view_module_version": "1.2.0",
            "_model_module": "@jupyter-widgets/controls"
          }
        },
        "34f7eea6cca14cde9c3537c2c3583426": {
          "model_module": "@jupyter-widgets/base",
          "model_name": "LayoutModel",
          "model_module_version": "1.2.0",
          "state": {
            "_view_name": "LayoutView",
            "grid_template_rows": null,
            "right": null,
            "justify_content": null,
            "_view_module": "@jupyter-widgets/base",
            "overflow": null,
            "_model_module_version": "1.2.0",
            "_view_count": null,
            "flex_flow": null,
            "width": null,
            "min_width": null,
            "border": null,
            "align_items": null,
            "bottom": null,
            "_model_module": "@jupyter-widgets/base",
            "top": null,
            "grid_column": null,
            "overflow_y": null,
            "overflow_x": null,
            "grid_auto_flow": null,
            "grid_area": null,
            "grid_template_columns": null,
            "flex": null,
            "_model_name": "LayoutModel",
            "justify_items": null,
            "grid_row": null,
            "max_height": null,
            "align_content": null,
            "visibility": null,
            "align_self": null,
            "height": null,
            "min_height": null,
            "padding": null,
            "grid_auto_rows": null,
            "grid_gap": null,
            "max_width": null,
            "order": null,
            "_view_module_version": "1.2.0",
            "grid_template_areas": null,
            "object_position": null,
            "object_fit": null,
            "grid_auto_columns": null,
            "margin": null,
            "display": null,
            "left": null
          }
        },
        "f1dd594950ad4cbdb7bfdef9fbea04d7": {
          "model_module": "@jupyter-widgets/controls",
          "model_name": "ProgressStyleModel",
          "model_module_version": "1.5.0",
          "state": {
            "_view_name": "StyleView",
            "_model_name": "ProgressStyleModel",
            "description_width": "",
            "_view_module": "@jupyter-widgets/base",
            "_model_module_version": "1.5.0",
            "_view_count": null,
            "_view_module_version": "1.2.0",
            "bar_color": null,
            "_model_module": "@jupyter-widgets/controls"
          }
        },
        "99a66286f9db483285c8de6dfb99a9bf": {
          "model_module": "@jupyter-widgets/base",
          "model_name": "LayoutModel",
          "model_module_version": "1.2.0",
          "state": {
            "_view_name": "LayoutView",
            "grid_template_rows": null,
            "right": null,
            "justify_content": null,
            "_view_module": "@jupyter-widgets/base",
            "overflow": null,
            "_model_module_version": "1.2.0",
            "_view_count": null,
            "flex_flow": null,
            "width": null,
            "min_width": null,
            "border": null,
            "align_items": null,
            "bottom": null,
            "_model_module": "@jupyter-widgets/base",
            "top": null,
            "grid_column": null,
            "overflow_y": null,
            "overflow_x": null,
            "grid_auto_flow": null,
            "grid_area": null,
            "grid_template_columns": null,
            "flex": "2",
            "_model_name": "LayoutModel",
            "justify_items": null,
            "grid_row": null,
            "max_height": null,
            "align_content": null,
            "visibility": null,
            "align_self": null,
            "height": null,
            "min_height": null,
            "padding": null,
            "grid_auto_rows": null,
            "grid_gap": null,
            "max_width": null,
            "order": null,
            "_view_module_version": "1.2.0",
            "grid_template_areas": null,
            "object_position": null,
            "object_fit": null,
            "grid_auto_columns": null,
            "margin": null,
            "display": null,
            "left": null
          }
        },
        "932a45938af244d8a8fef6870b181053": {
          "model_module": "@jupyter-widgets/controls",
          "model_name": "DescriptionStyleModel",
          "model_module_version": "1.5.0",
          "state": {
            "_view_name": "StyleView",
            "_model_name": "DescriptionStyleModel",
            "description_width": "",
            "_view_module": "@jupyter-widgets/base",
            "_model_module_version": "1.5.0",
            "_view_count": null,
            "_view_module_version": "1.2.0",
            "_model_module": "@jupyter-widgets/controls"
          }
        },
        "5b8e2cf802ed4923a4964e7e40e71cfc": {
          "model_module": "@jupyter-widgets/base",
          "model_name": "LayoutModel",
          "model_module_version": "1.2.0",
          "state": {
            "_view_name": "LayoutView",
            "grid_template_rows": null,
            "right": null,
            "justify_content": null,
            "_view_module": "@jupyter-widgets/base",
            "overflow": null,
            "_model_module_version": "1.2.0",
            "_view_count": null,
            "flex_flow": null,
            "width": null,
            "min_width": null,
            "border": null,
            "align_items": null,
            "bottom": null,
            "_model_module": "@jupyter-widgets/base",
            "top": null,
            "grid_column": null,
            "overflow_y": null,
            "overflow_x": null,
            "grid_auto_flow": null,
            "grid_area": null,
            "grid_template_columns": null,
            "flex": null,
            "_model_name": "LayoutModel",
            "justify_items": null,
            "grid_row": null,
            "max_height": null,
            "align_content": null,
            "visibility": null,
            "align_self": null,
            "height": null,
            "min_height": null,
            "padding": null,
            "grid_auto_rows": null,
            "grid_gap": null,
            "max_width": null,
            "order": null,
            "_view_module_version": "1.2.0",
            "grid_template_areas": null,
            "object_position": null,
            "object_fit": null,
            "grid_auto_columns": null,
            "margin": null,
            "display": null,
            "left": null
          }
        }
      }
    },
    "accelerator": "GPU"
  },
  "cells": [
    {
      "cell_type": "markdown",
      "metadata": {
        "id": "view-in-github",
        "colab_type": "text"
      },
      "source": [
        "<a href=\"https://colab.research.google.com/github/Buchiexplores/abuchi_notebooks/blob/main/T5_LCD_Finetuning.ipynb\" target=\"_parent\"><img src=\"https://colab.research.google.com/assets/colab-badge.svg\" alt=\"Open In Colab\"/></a>"
      ]
    },
    {
      "cell_type": "markdown",
      "metadata": {
        "id": "wZflYc72k3tn"
      },
      "source": [
        "This is used to fine tune T5 Model on LCDs"
      ]
    },
    {
      "cell_type": "markdown",
      "metadata": {
        "id": "kozmceowk9iy"
      },
      "source": [
        "# New Section"
      ]
    },
    {
      "cell_type": "markdown",
      "metadata": {
        "nteract": {
          "transient": {
            "deleting": false
          }
        },
        "id": "eWxgxGEIk3tt"
      },
      "source": [
        "Set up enivronment first  -- run these commands in the terminal\n",
        "\n",
        "conda create -n py36_test -y python=3.6.9 jupyter\n",
        "conda activate py36_test\n",
        "python -m ipykernel install --user --name envtest --display-name \"Python3_6\"\n"
      ]
    },
    {
      "cell_type": "code",
      "metadata": {
        "gather": {
          "logged": 1630352686281
        },
        "id": "pc01B5Xek3tu"
      },
      "source": [
        "#run these from the terminal\n",
        "#!pip install azureml-core\n",
        "#python -m pip install azureml-dataset-runtime --upgrade\n",
        "!pip install torch\n",
        "!pip install transformers\n",
        "!pip install horovod==0.22.1\n",
        "!pip install pytorch_lightning \n",
        "!pip install nltk  \n",
        "!pip install sentencepiece\n",
        "!pip install nlp\n"
      ],
      "execution_count": null,
      "outputs": []
    },
    {
      "cell_type": "code",
      "metadata": {
        "id": "HS8mNXq6bdxq",
        "colab": {
          "base_uri": "https://localhost:8080/"
        },
        "gather": {
          "logged": 1630353553329
        },
        "outputId": "ddb4e8aa-1e36-47cc-b8fc-64894732a452"
      },
      "source": [
        "import argparse\n",
        "import glob\n",
        "import os\n",
        "import json\n",
        "import time\n",
        "import logging\n",
        "import random\n",
        "import re\n",
        "from itertools import chain\n",
        "from string import punctuation\n",
        "\n",
        "import nltk\n",
        "nltk.download('punkt')\n",
        "from nltk.tokenize import sent_tokenize\n",
        "\n",
        "import pandas as pd\n",
        "import numpy as np\n",
        "import torch\n",
        "from torch.utils.data import Dataset, DataLoader\n",
        "import pytorch_lightning as pl\n",
        "\n",
        "\n",
        "from transformers import (\n",
        "    AdamW,\n",
        "    T5ForConditionalGeneration,\n",
        "    T5Tokenizer,\n",
        "    get_linear_schedule_with_warmup\n",
        ")"
      ],
      "execution_count": 3,
      "outputs": [
        {
          "output_type": "stream",
          "name": "stdout",
          "text": [
            "[nltk_data] Downloading package punkt to /root/nltk_data...\n",
            "[nltk_data]   Unzipping tokenizers/punkt.zip.\n"
          ]
        }
      ]
    },
    {
      "cell_type": "code",
      "metadata": {
        "colab": {
          "base_uri": "https://localhost:8080/"
        },
        "id": "NhIlv1HbmtVL",
        "outputId": "54133724-a5d7-428d-e542-978f11b29147"
      },
      "source": [
        "from google.colab import drive\n",
        "drive.mount('/content/drive', force_remount=True)"
      ],
      "execution_count": 4,
      "outputs": [
        {
          "output_type": "stream",
          "name": "stdout",
          "text": [
            "Mounted at /content/drive\n"
          ]
        }
      ]
    },
    {
      "cell_type": "code",
      "metadata": {
        "gather": {
          "logged": 1630353565335
        },
        "id": "s3K55MFsk3tx"
      },
      "source": [
        "def set_seed(seed):\n",
        "  random.seed(seed)\n",
        "  np.random.seed(seed)\n",
        "  torch.manual_seed(seed)\n",
        "  if torch.cuda.is_available():\n",
        "    torch.cuda.manual_seed_all(seed)\n",
        "\n",
        "set_seed(42)"
      ],
      "execution_count": 6,
      "outputs": []
    },
    {
      "cell_type": "markdown",
      "metadata": {
        "id": "VzaFZka3k3ty"
      },
      "source": [
        "## Model\n",
        "\n",
        "We'll be using the awesome [pytorch-lightning](https://github.com/PytorchLightning/pytorch-lightning) library for training. Most of the below code is adapted from here https://github.com/huggingface/transformers/blob/master/examples/lightning_base.py\n",
        "\n",
        "The trainer is generic and can be used for any text-2-text task. You'll just need to change the dataset. Rest of the code will stay unchanged for all the tasks.\n",
        "\n",
        "This is the most intresting and powrfull thing about the text-2-text format. You can fine-tune the model on variety of NLP tasks by just formulating the problem in text-2-text setting. No need to change hyperparameters, learning rate, optimizer or loss function. Just plug in your dataset and you are ready to go!"
      ]
    },
    {
      "cell_type": "code",
      "metadata": {
        "gather": {
          "logged": 1630353572636
        },
        "id": "MHlEig_Hk3tz"
      },
      "source": [
        "class T5FineTuner(pl.LightningModule):\n",
        "  def __init__(self, hparams):\n",
        "    super(T5FineTuner, self).__init__()\n",
        "    self.hyperparams = hparams\n",
        "    \n",
        "    self.model = T5ForConditionalGeneration.from_pretrained(self.hyperparams.model_name_or_path)\n",
        "    self.tokenizer = T5Tokenizer.from_pretrained(self.hyperparams.tokenizer_name_or_path)\n",
        "  \n",
        "  def is_logger(self):\n",
        "    return self.trainer.global_rank <= 0\n",
        "  \n",
        "  def forward(\n",
        "      self, input_ids, attention_mask=None, decoder_input_ids=None, decoder_attention_mask=None, labels=None\n",
        "  ):\n",
        "    return self.model(\n",
        "        input_ids,\n",
        "        attention_mask=attention_mask,\n",
        "        decoder_input_ids=decoder_input_ids,\n",
        "        decoder_attention_mask=decoder_attention_mask,\n",
        "        labels=labels,\n",
        "    )\n",
        "\n",
        "  def _step(self, batch):\n",
        "    labels = batch[\"target_ids\"]\n",
        "    labels[labels[:, :] == self.tokenizer.pad_token_id] = -100\n",
        "\n",
        "    outputs = self(\n",
        "        input_ids=batch[\"source_ids\"],\n",
        "        attention_mask=batch[\"source_mask\"],\n",
        "        labels=labels,\n",
        "        decoder_attention_mask=batch['target_mask']\n",
        "    )\n",
        "\n",
        "    loss = outputs[0]\n",
        "\n",
        "    return loss\n",
        "\n",
        "  def training_step(self, batch, batch_idx):\n",
        "    loss = self._step(batch)\n",
        "\n",
        "    tensorboard_logs = {\"train_loss\": loss}\n",
        "    return {\"loss\": loss, \"log\": tensorboard_logs}\n",
        "  \n",
        "  def training_epoch_end(self, outputs):\n",
        "    avg_train_loss = torch.stack([x[\"loss\"] for x in outputs]).mean()\n",
        "    tensorboard_logs = {\"avg_train_loss\": avg_train_loss}\n",
        "    #return {\"avg_train_loss\": avg_train_loss, \"log\": tensorboard_logs, 'progress_bar': tensorboard_logs}\n",
        "\n",
        "  def validation_step(self, batch, batch_idx):\n",
        "    loss = self._step(batch)\n",
        "    return {\"val_loss\": loss}\n",
        "  \n",
        "  def validation_epoch_end(self, outputs):\n",
        "    avg_loss = torch.stack([x[\"val_loss\"] for x in outputs]).mean()\n",
        "    tensorboard_logs = {\"val_loss\": avg_loss}\n",
        "    return {\"avg_val_loss\": avg_loss, \"log\": tensorboard_logs, 'progress_bar': tensorboard_logs}\n",
        "\n",
        "  def configure_optimizers(self):\n",
        "    \"Prepare optimizer and schedule (linear warmup and decay)\"\n",
        "\n",
        "    model = self.model\n",
        "    no_decay = [\"bias\", \"LayerNorm.weight\"]\n",
        "    optimizer_grouped_parameters = [\n",
        "        {\n",
        "            \"params\": [p for n, p in model.named_parameters() if not any(nd in n for nd in no_decay)],\n",
        "            \"weight_decay\": self.hyperparams.weight_decay,\n",
        "        },\n",
        "        {\n",
        "            \"params\": [p for n, p in model.named_parameters() if any(nd in n for nd in no_decay)],\n",
        "            \"weight_decay\": 0.0,\n",
        "        },\n",
        "    ]\n",
        "    optimizer = AdamW(optimizer_grouped_parameters, lr=self.hyperparams.learning_rate, eps=self.hyperparams.adam_epsilon)\n",
        "    self.opt = optimizer\n",
        "    return [optimizer]\n",
        "  \n",
        "  # def optimizer_step(self, epoch, batch_idx, optimizer, optimizer_idx, second_order_closure=None):\n",
        "  #   if self.trainer.use_tpu:\n",
        "  #     xm.optimizer_step(optimizer)\n",
        "  #   else:\n",
        "  #     optimizer.step()\n",
        "  #   optimizer.zero_grad()\n",
        "  #   self.lr_scheduler.step()\n",
        "\n",
        "  def optimizer_step(self, epoch=None, batch_idx=None, optimizer=None, optimizer_idx=None, optimizer_closure=None, on_tpu=None, using_native_amp=None, using_lbfgs=None):\n",
        "    optimizer.step(closure=optimizer_closure)\n",
        "    optimizer.zero_grad()\n",
        "    self.lr_scheduler.step()\n",
        "  \n",
        "  def get_tqdm_dict(self):\n",
        "    tqdm_dict = {\"loss\": \"{:.3f}\".format(self.trainer.avg_loss), \"lr\": self.lr_scheduler.get_last_lr()[-1]}\n",
        "\n",
        "    return tqdm_dict\n",
        "\n",
        "\n",
        "  def train_dataloader(self):\n",
        "    train_dataset = get_dataset(tokenizer=self.tokenizer, type_path=\"train\", args=self.hyperparams)\n",
        "    dataloader = DataLoader(train_dataset, batch_size=self.hyperparams.train_batch_size, drop_last=True, shuffle=True, num_workers=4)\n",
        "    t_total = (\n",
        "        (len(dataloader.dataset) // (self.hyperparams.train_batch_size * max(1, self.hyperparams.n_gpu)))\n",
        "        // self.hyperparams.gradient_accumulation_steps\n",
        "        * float(self.hyperparams.num_train_epochs)\n",
        "    )\n",
        "    scheduler = get_linear_schedule_with_warmup(\n",
        "        self.opt, num_warmup_steps=self.hyperparams.warmup_steps, num_training_steps=t_total\n",
        "    )\n",
        "    self.lr_scheduler = scheduler\n",
        "    return dataloader\n",
        "\n",
        "  def val_dataloader(self):\n",
        "    val_dataset = get_dataset(tokenizer=self.tokenizer, type_path=\"val\", args=self.hyperparams)\n",
        "    return DataLoader(val_dataset, batch_size=self.hyperparams.eval_batch_size, num_workers=4)"
      ],
      "execution_count": 228,
      "outputs": []
    },
    {
      "cell_type": "code",
      "metadata": {
        "id": "oh1R5C-GwMqx",
        "gather": {
          "logged": 1630353580470
        }
      },
      "source": [
        "logger = logging.getLogger(__name__)\n",
        "\n",
        "class LoggingCallback(pl.Callback):\n",
        "  def on_validation_end(self, trainer, pl_module):\n",
        "    logger.info(\"***** Validation results *****\")\n",
        "    if pl_module.is_logger():\n",
        "      metrics = trainer.callback_metrics\n",
        "      # Log results\n",
        "      for key in sorted(metrics):\n",
        "        if key not in [\"log\", \"progress_bar\"]:\n",
        "          logger.info(\"{} = {}\\n\".format(key, str(metrics[key])))\n",
        "\n",
        "  def on_test_end(self, trainer, pl_module):\n",
        "    logger.info(\"***** Test results *****\")\n",
        "\n",
        "    if pl_module.is_logger():\n",
        "      metrics = trainer.callback_metrics\n",
        "\n",
        "      # Log and save results to file\n",
        "      output_test_results_file = os.path.join(pl_module.hparams.output_dir, \"test_results.txt\")\n",
        "      with open(output_test_results_file, \"w\") as writer:\n",
        "        for key in sorted(metrics):\n",
        "          if key not in [\"log\", \"progress_bar\"]:\n",
        "            logger.info(\"{} = {}\\n\".format(key, str(metrics[key])))\n",
        "            writer.write(\"{} = {}\\n\".format(key, str(metrics[key])))"
      ],
      "execution_count": 161,
      "outputs": []
    },
    {
      "cell_type": "markdown",
      "metadata": {
        "id": "a4hjvsBJ5Zk5"
      },
      "source": [
        "Let's define the hyperparameters and other arguments. You can overide this `dict` for specific task as needed. While in most of cases you'll only need to change the `data_dir`and `output_dir`.\n",
        "\n",
        "Here the batch size is 8 and gradient_accumulation_steps are 16 so the effective batch size is 128"
      ]
    },
    {
      "cell_type": "code",
      "metadata": {
        "id": "urduopvizqTq",
        "gather": {
          "logged": 1630353588400
        }
      },
      "source": [
        "args_dict = dict(\n",
        "    data_dir=\"/content/drive/MyDrive/wellington/aclllmdbsmall/\", # path for data files\n",
        "    output_dir=\"/content/drive/MyDrive/wellington/aclllmdbsmall/\", # path to save the checkpoints\n",
        "    #data_dir=\"C:\\_JSE_Work\\Machine Learning\\T5\\T5 LCD Training\\aclImdb\", # path for data files\n",
        "    #output_dir=\"C:\\_JSE_Work\\Machine Learning\\T5\\T5 LCD Training\\CheckPoints\", # path to save the checkpoints\n",
        "    model_name_or_path='t5-base',\n",
        "    tokenizer_name_or_path='t5-base',\n",
        "    max_seq_length=512,\n",
        "    learning_rate=3e-4,\n",
        "    weight_decay=0.0,\n",
        "    adam_epsilon=1e-8,\n",
        "    warmup_steps=0,\n",
        "    train_batch_size=1,\n",
        "    eval_batch_size=1,\n",
        "    num_train_epochs=2,\n",
        "    gradient_accumulation_steps=16,\n",
        "    n_gpu=1,\n",
        "    early_stop_callback=False,\n",
        "    fp_16=False, # if you want to enable 16-bit training then install apex and set this to true\n",
        "    opt_level='O1', # you can find out more on optimisation levels here https://nvidia.github.io/apex/amp.html#opt-levels-and-properties\n",
        "    max_grad_norm=1.0, # if you enable 16-bit training then set this to a sensible value, 0.5 is a good default\n",
        "    seed=42,\n",
        ")"
      ],
      "execution_count": 207,
      "outputs": []
    },
    {
      "cell_type": "markdown",
      "metadata": {
        "id": "vfhlYUUV2NIh"
      },
      "source": [
        "## IMDB review classification"
      ]
    },
    {
      "cell_type": "code",
      "metadata": {
        "id": "7R0QdcgXuIWW",
        "gather": {
          "logged": 1630353597263
        }
      },
      "source": [
        "# -- manually downloaded info - had data and folder set up in the zip file\n",
        "#!wget https://ai.stanford.edu/~amaas/data/sentiment/aclImdb_v1.tar.gz\n",
        "#!tar -xvf aclImdb_v1.tar.gz"
      ],
      "execution_count": null,
      "outputs": []
    },
    {
      "cell_type": "code",
      "metadata": {
        "collapsed": true,
        "jupyter": {
          "source_hidden": false,
          "outputs_hidden": false
        },
        "nteract": {
          "transient": {
            "deleting": false
          }
        },
        "gather": {
          "logged": 1630353606728
        },
        "id": "v9FwqAyJk3t8"
      },
      "source": [
        "from azureml.core import Workspace, Datastore\n",
        "ws = Workspace.from_config()\n",
        "\n",
        "# get the name of defult Datastore associated with the workspace.\n",
        "default_dsname = ws.get_default_datastore().name\n",
        "default_ds = ws.get_default_datastore()\n",
        "print('default Datastore = ', default_dsname)"
      ],
      "execution_count": null,
      "outputs": []
    },
    {
      "cell_type": "code",
      "metadata": {
        "collapsed": true,
        "jupyter": {
          "source_hidden": false,
          "outputs_hidden": false
        },
        "nteract": {
          "transient": {
            "deleting": false
          }
        },
        "gather": {
          "logged": 1630353804564
        },
        "id": "rKBoZCvBk3t9"
      },
      "source": [
        "# azureml-core of version 1.0.72 or higher is required\n",
        "from azureml.core import Workspace, Dataset\n",
        "\n",
        "subscription_id = 'f1afabdd-76ea-42a1-96bb-c117e3fa902c'\n",
        "resource_group = 'TWG_ML2'\n",
        "workspace_name = 'ML_SalaryTest'\n",
        "\n",
        "workspace = Workspace(subscription_id, resource_group, workspace_name)\n",
        "\n",
        "dataset = Dataset.get_by_name(workspace, name='imdb_data_T5')\n",
        "dataset.download(target_path='.', overwrite=True)\n",
        "#print(dataset)"
      ],
      "execution_count": null,
      "outputs": []
    },
    {
      "cell_type": "code",
      "metadata": {
        "id": "ni1cAK7EvXSB",
        "gather": {
          "logged": 1629309321221
        }
      },
      "source": [
        "train_pos_files = glob.glob(\"/content/drive/MyDrive/wellington/aclllmdbsmall/train/pos/*.txt\")\n",
        "train_neg_files = glob.glob(\"/content/drive/MyDrive/wellington/aclllmdbsmall/train/neg/*.txt\")\n",
        "\n",
        "#train_pos_files = glob.glob('C:/_JSE_Work/Machine Learning/T5/T5 LCD Training/aclImdb/train/pos/*.txt')\n",
        "#!dir \"C:\\_JSE_Work\\Machine Learning\\T5\\T5 LCD Training\\aclImdb\\train\\pos\\*.txt\"\n",
        "#train_neg_files = glob.glob('C:/_JSE_Work/Machine Learning/T5/T5 LCD Training/aclImdb/train/neg/*.txt')\n",
        "#print(train_neg_files)"
      ],
      "execution_count": 124,
      "outputs": []
    },
    {
      "cell_type": "code",
      "metadata": {
        "id": "jEsRn5pa0v8d",
        "colab": {
          "base_uri": "https://localhost:8080/"
        },
        "outputId": "1b696090-7072-47a4-b467-538b4a0c9e4f"
      },
      "source": [
        "#len(dataset), len(dataset)\n",
        "len(train_pos_files), len(train_neg_files)\n"
      ],
      "execution_count": 125,
      "outputs": [
        {
          "output_type": "execute_result",
          "data": {
            "text/plain": [
              "(201, 201)"
            ]
          },
          "metadata": {},
          "execution_count": 125
        }
      ]
    },
    {
      "cell_type": "markdown",
      "metadata": {
        "id": "5zgS8KhlaPiA"
      },
      "source": [
        "We will use 2000 samples from the train set for validation. Let's choose 1000 postive reviews and 1000 negative reviews for validation and save them in the val directory"
      ]
    },
    {
      "cell_type": "code",
      "metadata": {
        "id": "hLvBHcXwzXrk"
      },
      "source": [
        "# created these manually -- C:\\_JSE_Work\\Machine Learning\\T5\\T5 LCD Training\\aclImdb\\val\n",
        "#!mkdir aclImdb/val aclImdb/val/pos aclImdb/val/neg"
      ],
      "execution_count": null,
      "outputs": []
    },
    {
      "cell_type": "code",
      "metadata": {
        "id": "IXZmLZ1pzjiY",
        "colab": {
          "base_uri": "https://localhost:8080/"
        },
        "outputId": "448295a7-6990-43ea-8d4a-dd19e66b46a2"
      },
      "source": [
        "random.shuffle(train_pos_files)\n",
        "random.shuffle(train_neg_files)\n",
        "\n",
        "val_pos_files = train_pos_files[:1000]\n",
        "val_neg_files = train_neg_files[:1000]\n",
        "\n",
        "print(len(val_pos_files))\n",
        "print(len(val_neg_files))"
      ],
      "execution_count": 126,
      "outputs": [
        {
          "output_type": "stream",
          "name": "stdout",
          "text": [
            "201\n",
            "201\n"
          ]
        }
      ]
    },
    {
      "cell_type": "code",
      "metadata": {
        "id": "5yTS2Jx40UNu"
      },
      "source": [
        "import shutil"
      ],
      "execution_count": 120,
      "outputs": []
    },
    {
      "cell_type": "code",
      "metadata": {
        "id": "hJnJpkdb0ZKY"
      },
      "source": [
        "for f in val_pos_files:\n",
        "  shutil.copy(f,  '/content/drive/MyDrive/wellington/aclllmdbsmall/val/pos')\n",
        "for f in val_neg_files:\n",
        "  shutil.copy(f,  '/content/drive/MyDrive/wellington/aclllmdbsmall/val/neg')"
      ],
      "execution_count": 127,
      "outputs": []
    },
    {
      "cell_type": "markdown",
      "metadata": {
        "id": "qdEgCwL7cIyi"
      },
      "source": [
        "### Prepare Dataset"
      ]
    },
    {
      "cell_type": "code",
      "metadata": {
        "id": "McQC1FotigqA"
      },
      "source": [
        "tokenizer = T5Tokenizer.from_pretrained('t5-base')"
      ],
      "execution_count": 164,
      "outputs": []
    },
    {
      "cell_type": "code",
      "metadata": {
        "id": "wthd9SM74RG8",
        "colab": {
          "base_uri": "https://localhost:8080/"
        },
        "outputId": "e665e9bd-c7a9-4b3d-b7a8-f08e82c28043"
      },
      "source": [
        "# removed the </s> as the newer version already creates this\n",
        "ids_neg = tokenizer.encode('negative')\n",
        "ids_pos = tokenizer.encode('positive')\n",
        "len(ids_neg), len(ids_pos)"
      ],
      "execution_count": 163,
      "outputs": [
        {
          "output_type": "execute_result",
          "data": {
            "text/plain": [
              "(2, 2)"
            ]
          },
          "metadata": {},
          "execution_count": 163
        }
      ]
    },
    {
      "cell_type": "markdown",
      "metadata": {
        "id": "k5sJkyI3a723"
      },
      "source": [
        "All the examples are converted in the text-2-text format as shown in the paper. However I didn't use any task prefix here. The examples are encoded as follows,\n",
        "if the review is positive then the target is 'positive' else 'negative'\n",
        "\n",
        "**input**:  I went to see this\n",
        "movie with my husband, and we both\n",
        "thought the acting was terrible!\"\n",
        "\n",
        "**target**: negative\n",
        "\n",
        "**input**:  Despite what others say,\n",
        "I thought this movie was funny.\n",
        "\n",
        "**target**: positive"
      ]
    },
    {
      "cell_type": "code",
      "metadata": {
        "id": "IIY0GenSb72m"
      },
      "source": [
        "class ImdbDataset(Dataset):\n",
        "  def __init__(self, tokenizer, data_dir, type_path,  max_len=512):\n",
        "    self.pos_file_path = os.path.join(data_dir, type_path, 'pos')\n",
        "    self.neg_file_path = os.path.join(data_dir, type_path, 'neg')\n",
        "    # print(self.pos_file_path)\n",
        "    # print(self.neg_file_path)\n",
        "    \n",
        "    self.pos_files = glob.glob(\"%s/*.txt\" % self.pos_file_path)\n",
        "    self.neg_files = glob.glob(\"%s/*.txt\" % self.neg_file_path)\n",
        "    print(self.pos_files)\n",
        "    print(self.neg_files)\n",
        "    # print(len(self.pos_files))\n",
        "    # print(len(self.neg_files))\n",
        "    \n",
        "    self.max_len = max_len\n",
        "    self.tokenizer = tokenizer\n",
        "    self.inputs = []\n",
        "    self.targets = []\n",
        "\n",
        "    self._build()\n",
        "  \n",
        "  def __len__(self):\n",
        "    return len(self.inputs)\n",
        "    \n",
        "    \n",
        "  \n",
        "  def __getitem__(self, index):\n",
        "    source_ids = self.inputs[index][\"input_ids\"].squeeze()\n",
        "    target_ids = self.targets[index][\"input_ids\"].squeeze()\n",
        "\n",
        "    src_mask    = self.inputs[index][\"attention_mask\"].squeeze()  # might need to squeeze\n",
        "    target_mask = self.targets[index][\"attention_mask\"].squeeze()  # might need to squeeze\n",
        "\n",
        "    return {\"source_ids\": source_ids, \"source_mask\": src_mask, \"target_ids\": target_ids, \"target_mask\": target_mask}\n",
        "  \n",
        "  def _build(self):\n",
        "    self._buil_examples_from_files(self.pos_files, 'positive')\n",
        "    self._buil_examples_from_files(self.neg_files, 'negative')\n",
        "  \n",
        "  def _buil_examples_from_files(self, files, sentiment):\n",
        "    REPLACE_NO_SPACE = re.compile(\"[.;:!\\'?,\\\"()\\[\\]]\")\n",
        "    REPLACE_WITH_SPACE = re.compile(\"(<br\\s*/><br\\s*/>)|(\\-)|(\\/)\")\n",
        "\n",
        "    for path in files:\n",
        "      with open(path, 'r',encoding='utf-8' ) as f:\n",
        "        text = f.read()\n",
        "      \n",
        "      line = text.strip()\n",
        "      line = REPLACE_NO_SPACE.sub(\"\", line) \n",
        "      line = REPLACE_WITH_SPACE.sub(\"\", line)\n",
        "      #line = line + ' </s>'\n",
        "\n",
        "      target = sentiment  # + \" </s>\" removed as not needed?\n",
        "\n",
        "       # tokenize inputs\n",
        "      tokenized_inputs = self.tokenizer.batch_encode_plus(\n",
        "          [line], max_length=self.max_len, padding='max_length', return_tensors=\"pt\"\n",
        "      )\n",
        "       # tokenize targets\n",
        "      tokenized_targets = self.tokenizer.batch_encode_plus(\n",
        "          [target], max_length=2, padding='max_length', return_tensors=\"pt\"\n",
        "      )\n",
        "\n",
        "      self.inputs.append(tokenized_inputs)\n",
        "      self.targets.append(tokenized_targets)"
      ],
      "execution_count": 229,
      "outputs": []
    },
    {
      "cell_type": "code",
      "metadata": {
        "id": "gsnsKY6jemsr",
        "colab": {
          "base_uri": "https://localhost:8080/"
        },
        "outputId": "86b7b4d7-e4e1-4c91-cd6b-b09a10fcb1c9"
      },
      "source": [
        "dataset = ImdbDataset(tokenizer, '/content/drive/MyDrive/wellington/aclllmdbsmall/', 'val',  max_len=512)\n",
        "len(dataset)\n",
        "\n",
        "\n"
      ],
      "execution_count": 209,
      "outputs": [
        {
          "output_type": "stream",
          "name": "stdout",
          "text": [
            "['/content/drive/MyDrive/wellington/aclllmdbsmall/val/pos/122_8.txt', '/content/drive/MyDrive/wellington/aclllmdbsmall/val/pos/110_10.txt', '/content/drive/MyDrive/wellington/aclllmdbsmall/val/pos/16_8.txt', '/content/drive/MyDrive/wellington/aclllmdbsmall/val/pos/27_9.txt', '/content/drive/MyDrive/wellington/aclllmdbsmall/val/pos/146_8.txt', '/content/drive/MyDrive/wellington/aclllmdbsmall/val/pos/121_8.txt', '/content/drive/MyDrive/wellington/aclllmdbsmall/val/pos/130_9.txt', '/content/drive/MyDrive/wellington/aclllmdbsmall/val/pos/177_8.txt', '/content/drive/MyDrive/wellington/aclllmdbsmall/val/pos/187_10.txt', '/content/drive/MyDrive/wellington/aclllmdbsmall/val/pos/42_10.txt', '/content/drive/MyDrive/wellington/aclllmdbsmall/val/pos/102_8.txt', '/content/drive/MyDrive/wellington/aclllmdbsmall/val/pos/77_10.txt', '/content/drive/MyDrive/wellington/aclllmdbsmall/val/pos/125_7.txt', '/content/drive/MyDrive/wellington/aclllmdbsmall/val/pos/149_9.txt', '/content/drive/MyDrive/wellington/aclllmdbsmall/val/pos/46_10.txt', '/content/drive/MyDrive/wellington/aclllmdbsmall/val/pos/163_7.txt', '/content/drive/MyDrive/wellington/aclllmdbsmall/val/pos/199_8.txt', '/content/drive/MyDrive/wellington/aclllmdbsmall/val/pos/15_10.txt', '/content/drive/MyDrive/wellington/aclllmdbsmall/val/pos/65_7.txt', '/content/drive/MyDrive/wellington/aclllmdbsmall/val/pos/0_10.txt', '/content/drive/MyDrive/wellington/aclllmdbsmall/val/pos/195_10.txt', '/content/drive/MyDrive/wellington/aclllmdbsmall/val/pos/107_10.txt', '/content/drive/MyDrive/wellington/aclllmdbsmall/val/pos/79_8.txt', '/content/drive/MyDrive/wellington/aclllmdbsmall/val/pos/105_8.txt', '/content/drive/MyDrive/wellington/aclllmdbsmall/val/pos/136_9.txt', '/content/drive/MyDrive/wellington/aclllmdbsmall/val/pos/64_10.txt', '/content/drive/MyDrive/wellington/aclllmdbsmall/val/pos/171_7.txt', '/content/drive/MyDrive/wellington/aclllmdbsmall/val/pos/198_7.txt', '/content/drive/MyDrive/wellington/aclllmdbsmall/val/pos/85_10.txt', '/content/drive/MyDrive/wellington/aclllmdbsmall/val/pos/137_7.txt', '/content/drive/MyDrive/wellington/aclllmdbsmall/val/pos/104_10.txt', '/content/drive/MyDrive/wellington/aclllmdbsmall/val/pos/28_9.txt', '/content/drive/MyDrive/wellington/aclllmdbsmall/val/pos/118_10.txt', '/content/drive/MyDrive/wellington/aclllmdbsmall/val/pos/59_10.txt', '/content/drive/MyDrive/wellington/aclllmdbsmall/val/pos/62_8.txt', '/content/drive/MyDrive/wellington/aclllmdbsmall/val/pos/170_7.txt', '/content/drive/MyDrive/wellington/aclllmdbsmall/val/pos/119_9.txt', '/content/drive/MyDrive/wellington/aclllmdbsmall/val/pos/47_10.txt', '/content/drive/MyDrive/wellington/aclllmdbsmall/val/pos/67_10.txt', '/content/drive/MyDrive/wellington/aclllmdbsmall/val/pos/25_10.txt', '/content/drive/MyDrive/wellington/aclllmdbsmall/val/pos/197_10.txt', '/content/drive/MyDrive/wellington/aclllmdbsmall/val/pos/192_10.txt', '/content/drive/MyDrive/wellington/aclllmdbsmall/val/pos/91_10.txt', '/content/drive/MyDrive/wellington/aclllmdbsmall/val/pos/93_9.txt', '/content/drive/MyDrive/wellington/aclllmdbsmall/val/pos/44_8.txt', '/content/drive/MyDrive/wellington/aclllmdbsmall/val/pos/133_8.txt', '/content/drive/MyDrive/wellington/aclllmdbsmall/val/pos/74_10.txt', '/content/drive/MyDrive/wellington/aclllmdbsmall/val/pos/70_8.txt', '/content/drive/MyDrive/wellington/aclllmdbsmall/val/pos/157_10.txt', '/content/drive/MyDrive/wellington/aclllmdbsmall/val/pos/175_8.txt', '/content/drive/MyDrive/wellington/aclllmdbsmall/val/pos/86_10.txt', '/content/drive/MyDrive/wellington/aclllmdbsmall/val/pos/165_7.txt', '/content/drive/MyDrive/wellington/aclllmdbsmall/val/pos/100_10.txt', '/content/drive/MyDrive/wellington/aclllmdbsmall/val/pos/160_10.txt', '/content/drive/MyDrive/wellington/aclllmdbsmall/val/pos/6_7.txt', '/content/drive/MyDrive/wellington/aclllmdbsmall/val/pos/117_10.txt', '/content/drive/MyDrive/wellington/aclllmdbsmall/val/pos/178_10.txt', '/content/drive/MyDrive/wellington/aclllmdbsmall/val/pos/169_7.txt', '/content/drive/MyDrive/wellington/aclllmdbsmall/val/pos/115_9.txt', '/content/drive/MyDrive/wellington/aclllmdbsmall/val/pos/114_10.txt', '/content/drive/MyDrive/wellington/aclllmdbsmall/val/pos/39_9.txt', '/content/drive/MyDrive/wellington/aclllmdbsmall/val/pos/144_9.txt', '/content/drive/MyDrive/wellington/aclllmdbsmall/val/pos/159_10.txt', '/content/drive/MyDrive/wellington/aclllmdbsmall/val/pos/113_8.txt', '/content/drive/MyDrive/wellington/aclllmdbsmall/val/pos/43_10.txt', '/content/drive/MyDrive/wellington/aclllmdbsmall/val/pos/152_10.txt', '/content/drive/MyDrive/wellington/aclllmdbsmall/val/pos/84_10.txt', '/content/drive/MyDrive/wellington/aclllmdbsmall/val/pos/80_7.txt', '/content/drive/MyDrive/wellington/aclllmdbsmall/val/pos/101_9.txt', '/content/drive/MyDrive/wellington/aclllmdbsmall/val/pos/123_10.txt', '/content/drive/MyDrive/wellington/aclllmdbsmall/val/pos/90_9.txt', '/content/drive/MyDrive/wellington/aclllmdbsmall/val/pos/19_10.txt', '/content/drive/MyDrive/wellington/aclllmdbsmall/val/pos/41_9.txt', '/content/drive/MyDrive/wellington/aclllmdbsmall/val/pos/36_8.txt', '/content/drive/MyDrive/wellington/aclllmdbsmall/val/pos/176_9.txt', '/content/drive/MyDrive/wellington/aclllmdbsmall/val/pos/8_9.txt', '/content/drive/MyDrive/wellington/aclllmdbsmall/val/pos/154_9.txt', '/content/drive/MyDrive/wellington/aclllmdbsmall/val/pos/76_8.txt', '/content/drive/MyDrive/wellington/aclllmdbsmall/val/pos/56_10.txt', '/content/drive/MyDrive/wellington/aclllmdbsmall/val/pos/92_8.txt', '/content/drive/MyDrive/wellington/aclllmdbsmall/val/pos/196_9.txt', '/content/drive/MyDrive/wellington/aclllmdbsmall/val/pos/50_10.txt', '/content/drive/MyDrive/wellington/aclllmdbsmall/val/pos/55_10.txt', '/content/drive/MyDrive/wellington/aclllmdbsmall/val/pos/161_7.txt', '/content/drive/MyDrive/wellington/aclllmdbsmall/val/pos/48_9.txt', '/content/drive/MyDrive/wellington/aclllmdbsmall/val/pos/124_10.txt', '/content/drive/MyDrive/wellington/aclllmdbsmall/val/pos/158_9.txt', '/content/drive/MyDrive/wellington/aclllmdbsmall/val/pos/2_7.txt', '/content/drive/MyDrive/wellington/aclllmdbsmall/val/pos/51_10.txt', '/content/drive/MyDrive/wellington/aclllmdbsmall/val/pos/78_8.txt', '/content/drive/MyDrive/wellington/aclllmdbsmall/val/pos/98_9.txt', '/content/drive/MyDrive/wellington/aclllmdbsmall/val/pos/153_8.txt', '/content/drive/MyDrive/wellington/aclllmdbsmall/val/pos/99_10.txt', '/content/drive/MyDrive/wellington/aclllmdbsmall/val/pos/4_10.txt', '/content/drive/MyDrive/wellington/aclllmdbsmall/val/pos/1_10.txt', '/content/drive/MyDrive/wellington/aclllmdbsmall/val/pos/150_9.txt', '/content/drive/MyDrive/wellington/aclllmdbsmall/val/pos/81_9.txt', '/content/drive/MyDrive/wellington/aclllmdbsmall/val/pos/145_9.txt', '/content/drive/MyDrive/wellington/aclllmdbsmall/val/pos/109_8.txt', '/content/drive/MyDrive/wellington/aclllmdbsmall/val/pos/132_9.txt', '/content/drive/MyDrive/wellington/aclllmdbsmall/val/pos/167_10.txt', '/content/drive/MyDrive/wellington/aclllmdbsmall/val/pos/184_9.txt', '/content/drive/MyDrive/wellington/aclllmdbsmall/val/pos/193_9.txt', '/content/drive/MyDrive/wellington/aclllmdbsmall/val/pos/22_8.txt', '/content/drive/MyDrive/wellington/aclllmdbsmall/val/pos/148_9.txt', '/content/drive/MyDrive/wellington/aclllmdbsmall/val/pos/128_10.txt', '/content/drive/MyDrive/wellington/aclllmdbsmall/val/pos/37_9.txt', '/content/drive/MyDrive/wellington/aclllmdbsmall/val/pos/14_8.txt', '/content/drive/MyDrive/wellington/aclllmdbsmall/val/pos/140_9.txt', '/content/drive/MyDrive/wellington/aclllmdbsmall/val/pos/138_8.txt', '/content/drive/MyDrive/wellington/aclllmdbsmall/val/pos/181_10.txt', '/content/drive/MyDrive/wellington/aclllmdbsmall/val/pos/32_10.txt', '/content/drive/MyDrive/wellington/aclllmdbsmall/val/pos/95_10.txt', '/content/drive/MyDrive/wellington/aclllmdbsmall/val/pos/108_10.txt', '/content/drive/MyDrive/wellington/aclllmdbsmall/val/pos/173_7.txt', '/content/drive/MyDrive/wellington/aclllmdbsmall/val/pos/45_9.txt', '/content/drive/MyDrive/wellington/aclllmdbsmall/val/pos/112_10.txt', '/content/drive/MyDrive/wellington/aclllmdbsmall/val/pos/200_8.txt', '/content/drive/MyDrive/wellington/aclllmdbsmall/val/pos/3_7.txt', '/content/drive/MyDrive/wellington/aclllmdbsmall/val/pos/58_8.txt', '/content/drive/MyDrive/wellington/aclllmdbsmall/val/pos/190_9.txt', '/content/drive/MyDrive/wellington/aclllmdbsmall/val/pos/155_8.txt', '/content/drive/MyDrive/wellington/aclllmdbsmall/val/pos/12_9.txt', '/content/drive/MyDrive/wellington/aclllmdbsmall/val/pos/34_8.txt', '/content/drive/MyDrive/wellington/aclllmdbsmall/val/pos/83_10.txt', '/content/drive/MyDrive/wellington/aclllmdbsmall/val/pos/194_7.txt', '/content/drive/MyDrive/wellington/aclllmdbsmall/val/pos/72_8.txt', '/content/drive/MyDrive/wellington/aclllmdbsmall/val/pos/97_7.txt', '/content/drive/MyDrive/wellington/aclllmdbsmall/val/pos/7_9.txt', '/content/drive/MyDrive/wellington/aclllmdbsmall/val/pos/10_7.txt', '/content/drive/MyDrive/wellington/aclllmdbsmall/val/pos/57_10.txt', '/content/drive/MyDrive/wellington/aclllmdbsmall/val/pos/53_7.txt', '/content/drive/MyDrive/wellington/aclllmdbsmall/val/pos/49_10.txt', '/content/drive/MyDrive/wellington/aclllmdbsmall/val/pos/61_9.txt', '/content/drive/MyDrive/wellington/aclllmdbsmall/val/pos/131_7.txt', '/content/drive/MyDrive/wellington/aclllmdbsmall/val/pos/141_8.txt', '/content/drive/MyDrive/wellington/aclllmdbsmall/val/pos/9_7.txt', '/content/drive/MyDrive/wellington/aclllmdbsmall/val/pos/68_9.txt', '/content/drive/MyDrive/wellington/aclllmdbsmall/val/pos/182_10.txt', '/content/drive/MyDrive/wellington/aclllmdbsmall/val/pos/96_10.txt', '/content/drive/MyDrive/wellington/aclllmdbsmall/val/pos/180_10.txt', '/content/drive/MyDrive/wellington/aclllmdbsmall/val/pos/71_9.txt', '/content/drive/MyDrive/wellington/aclllmdbsmall/val/pos/13_9.txt', '/content/drive/MyDrive/wellington/aclllmdbsmall/val/pos/38_8.txt', '/content/drive/MyDrive/wellington/aclllmdbsmall/val/pos/129_9.txt', '/content/drive/MyDrive/wellington/aclllmdbsmall/val/pos/172_7.txt', '/content/drive/MyDrive/wellington/aclllmdbsmall/val/pos/139_9.txt', '/content/drive/MyDrive/wellington/aclllmdbsmall/val/pos/111_10.txt', '/content/drive/MyDrive/wellington/aclllmdbsmall/val/pos/52_10.txt', '/content/drive/MyDrive/wellington/aclllmdbsmall/val/pos/29_10.txt', '/content/drive/MyDrive/wellington/aclllmdbsmall/val/pos/156_9.txt', '/content/drive/MyDrive/wellington/aclllmdbsmall/val/pos/73_10.txt', '/content/drive/MyDrive/wellington/aclllmdbsmall/val/pos/188_10.txt', '/content/drive/MyDrive/wellington/aclllmdbsmall/val/pos/183_10.txt', '/content/drive/MyDrive/wellington/aclllmdbsmall/val/pos/21_9.txt', '/content/drive/MyDrive/wellington/aclllmdbsmall/val/pos/60_8.txt', '/content/drive/MyDrive/wellington/aclllmdbsmall/val/pos/174_7.txt', '/content/drive/MyDrive/wellington/aclllmdbsmall/val/pos/143_8.txt', '/content/drive/MyDrive/wellington/aclllmdbsmall/val/pos/30_9.txt', '/content/drive/MyDrive/wellington/aclllmdbsmall/val/pos/186_9.txt', '/content/drive/MyDrive/wellington/aclllmdbsmall/val/pos/127_10.txt', '/content/drive/MyDrive/wellington/aclllmdbsmall/val/pos/20_9.txt', '/content/drive/MyDrive/wellington/aclllmdbsmall/val/pos/40_8.txt', '/content/drive/MyDrive/wellington/aclllmdbsmall/val/pos/179_10.txt', '/content/drive/MyDrive/wellington/aclllmdbsmall/val/pos/5_7.txt', '/content/drive/MyDrive/wellington/aclllmdbsmall/val/pos/166_7.txt', '/content/drive/MyDrive/wellington/aclllmdbsmall/val/pos/142_8.txt', '/content/drive/MyDrive/wellington/aclllmdbsmall/val/pos/33_7.txt', '/content/drive/MyDrive/wellington/aclllmdbsmall/val/pos/135_9.txt', '/content/drive/MyDrive/wellington/aclllmdbsmall/val/pos/189_9.txt', '/content/drive/MyDrive/wellington/aclllmdbsmall/val/pos/17_8.txt', '/content/drive/MyDrive/wellington/aclllmdbsmall/val/pos/11_8.txt', '/content/drive/MyDrive/wellington/aclllmdbsmall/val/pos/147_10.txt', '/content/drive/MyDrive/wellington/aclllmdbsmall/val/pos/120_9.txt', '/content/drive/MyDrive/wellington/aclllmdbsmall/val/pos/31_10.txt', '/content/drive/MyDrive/wellington/aclllmdbsmall/val/pos/168_8.txt', '/content/drive/MyDrive/wellington/aclllmdbsmall/val/pos/162_8.txt', '/content/drive/MyDrive/wellington/aclllmdbsmall/val/pos/23_10.txt', '/content/drive/MyDrive/wellington/aclllmdbsmall/val/pos/69_10.txt', '/content/drive/MyDrive/wellington/aclllmdbsmall/val/pos/116_10.txt', '/content/drive/MyDrive/wellington/aclllmdbsmall/val/pos/88_10.txt', '/content/drive/MyDrive/wellington/aclllmdbsmall/val/pos/35_9.txt', '/content/drive/MyDrive/wellington/aclllmdbsmall/val/pos/134_8.txt', '/content/drive/MyDrive/wellington/aclllmdbsmall/val/pos/87_10.txt', '/content/drive/MyDrive/wellington/aclllmdbsmall/val/pos/151_8.txt', '/content/drive/MyDrive/wellington/aclllmdbsmall/val/pos/94_10.txt', '/content/drive/MyDrive/wellington/aclllmdbsmall/val/pos/82_10.txt', '/content/drive/MyDrive/wellington/aclllmdbsmall/val/pos/63_10.txt', '/content/drive/MyDrive/wellington/aclllmdbsmall/val/pos/66_10.txt', '/content/drive/MyDrive/wellington/aclllmdbsmall/val/pos/75_10.txt', '/content/drive/MyDrive/wellington/aclllmdbsmall/val/pos/126_10.txt', '/content/drive/MyDrive/wellington/aclllmdbsmall/val/pos/103_10.txt', '/content/drive/MyDrive/wellington/aclllmdbsmall/val/pos/89_10.txt', '/content/drive/MyDrive/wellington/aclllmdbsmall/val/pos/191_9.txt', '/content/drive/MyDrive/wellington/aclllmdbsmall/val/pos/106_9.txt', '/content/drive/MyDrive/wellington/aclllmdbsmall/val/pos/54_10.txt', '/content/drive/MyDrive/wellington/aclllmdbsmall/val/pos/185_10.txt', '/content/drive/MyDrive/wellington/aclllmdbsmall/val/pos/164_7.txt', '/content/drive/MyDrive/wellington/aclllmdbsmall/val/pos/18_8.txt', '/content/drive/MyDrive/wellington/aclllmdbsmall/val/pos/26_10.txt', '/content/drive/MyDrive/wellington/aclllmdbsmall/val/pos/24_10.txt']\n",
            "['/content/drive/MyDrive/wellington/aclllmdbsmall/val/neg/193_4.txt', '/content/drive/MyDrive/wellington/aclllmdbsmall/val/neg/69_4.txt', '/content/drive/MyDrive/wellington/aclllmdbsmall/val/neg/128_4.txt', '/content/drive/MyDrive/wellington/aclllmdbsmall/val/neg/103_3.txt', '/content/drive/MyDrive/wellington/aclllmdbsmall/val/neg/106_3.txt', '/content/drive/MyDrive/wellington/aclllmdbsmall/val/neg/100_4.txt', '/content/drive/MyDrive/wellington/aclllmdbsmall/val/neg/60_1.txt', '/content/drive/MyDrive/wellington/aclllmdbsmall/val/neg/5_4.txt', '/content/drive/MyDrive/wellington/aclllmdbsmall/val/neg/14_1.txt', '/content/drive/MyDrive/wellington/aclllmdbsmall/val/neg/63_1.txt', '/content/drive/MyDrive/wellington/aclllmdbsmall/val/neg/21_1.txt', '/content/drive/MyDrive/wellington/aclllmdbsmall/val/neg/118_1.txt', '/content/drive/MyDrive/wellington/aclllmdbsmall/val/neg/43_1.txt', '/content/drive/MyDrive/wellington/aclllmdbsmall/val/neg/170_2.txt', '/content/drive/MyDrive/wellington/aclllmdbsmall/val/neg/42_4.txt', '/content/drive/MyDrive/wellington/aclllmdbsmall/val/neg/76_4.txt', '/content/drive/MyDrive/wellington/aclllmdbsmall/val/neg/32_3.txt', '/content/drive/MyDrive/wellington/aclllmdbsmall/val/neg/24_4.txt', '/content/drive/MyDrive/wellington/aclllmdbsmall/val/neg/144_2.txt', '/content/drive/MyDrive/wellington/aclllmdbsmall/val/neg/46_2.txt', '/content/drive/MyDrive/wellington/aclllmdbsmall/val/neg/167_2.txt', '/content/drive/MyDrive/wellington/aclllmdbsmall/val/neg/180_3.txt', '/content/drive/MyDrive/wellington/aclllmdbsmall/val/neg/117_1.txt', '/content/drive/MyDrive/wellington/aclllmdbsmall/val/neg/124_2.txt', '/content/drive/MyDrive/wellington/aclllmdbsmall/val/neg/176_3.txt', '/content/drive/MyDrive/wellington/aclllmdbsmall/val/neg/178_2.txt', '/content/drive/MyDrive/wellington/aclllmdbsmall/val/neg/81_3.txt', '/content/drive/MyDrive/wellington/aclllmdbsmall/val/neg/23_4.txt', '/content/drive/MyDrive/wellington/aclllmdbsmall/val/neg/38_1.txt', '/content/drive/MyDrive/wellington/aclllmdbsmall/val/neg/37_1.txt', '/content/drive/MyDrive/wellington/aclllmdbsmall/val/neg/8_2.txt', '/content/drive/MyDrive/wellington/aclllmdbsmall/val/neg/54_3.txt', '/content/drive/MyDrive/wellington/aclllmdbsmall/val/neg/120_2.txt', '/content/drive/MyDrive/wellington/aclllmdbsmall/val/neg/141_1.txt', '/content/drive/MyDrive/wellington/aclllmdbsmall/val/neg/111_3.txt', '/content/drive/MyDrive/wellington/aclllmdbsmall/val/neg/181_3.txt', '/content/drive/MyDrive/wellington/aclllmdbsmall/val/neg/31_4.txt', '/content/drive/MyDrive/wellington/aclllmdbsmall/val/neg/140_2.txt', '/content/drive/MyDrive/wellington/aclllmdbsmall/val/neg/116_4.txt', '/content/drive/MyDrive/wellington/aclllmdbsmall/val/neg/98_1.txt', '/content/drive/MyDrive/wellington/aclllmdbsmall/val/neg/11_3.txt', '/content/drive/MyDrive/wellington/aclllmdbsmall/val/neg/189_4.txt', '/content/drive/MyDrive/wellington/aclllmdbsmall/val/neg/198_3.txt', '/content/drive/MyDrive/wellington/aclllmdbsmall/val/neg/4_4.txt', '/content/drive/MyDrive/wellington/aclllmdbsmall/val/neg/131_1.txt', '/content/drive/MyDrive/wellington/aclllmdbsmall/val/neg/56_3.txt', '/content/drive/MyDrive/wellington/aclllmdbsmall/val/neg/84_3.txt', '/content/drive/MyDrive/wellington/aclllmdbsmall/val/neg/172_4.txt', '/content/drive/MyDrive/wellington/aclllmdbsmall/val/neg/190_2.txt', '/content/drive/MyDrive/wellington/aclllmdbsmall/val/neg/135_3.txt', '/content/drive/MyDrive/wellington/aclllmdbsmall/val/neg/150_4.txt', '/content/drive/MyDrive/wellington/aclllmdbsmall/val/neg/130_4.txt', '/content/drive/MyDrive/wellington/aclllmdbsmall/val/neg/153_4.txt', '/content/drive/MyDrive/wellington/aclllmdbsmall/val/neg/0_2.txt', '/content/drive/MyDrive/wellington/aclllmdbsmall/val/neg/3_4.txt', '/content/drive/MyDrive/wellington/aclllmdbsmall/val/neg/195_4.txt', '/content/drive/MyDrive/wellington/aclllmdbsmall/val/neg/78_1.txt', '/content/drive/MyDrive/wellington/aclllmdbsmall/val/neg/58_3.txt', '/content/drive/MyDrive/wellington/aclllmdbsmall/val/neg/121_4.txt', '/content/drive/MyDrive/wellington/aclllmdbsmall/val/neg/154_2.txt', '/content/drive/MyDrive/wellington/aclllmdbsmall/val/neg/47_2.txt', '/content/drive/MyDrive/wellington/aclllmdbsmall/val/neg/188_3.txt', '/content/drive/MyDrive/wellington/aclllmdbsmall/val/neg/151_2.txt', '/content/drive/MyDrive/wellington/aclllmdbsmall/val/neg/75_1.txt', '/content/drive/MyDrive/wellington/aclllmdbsmall/val/neg/61_1.txt', '/content/drive/MyDrive/wellington/aclllmdbsmall/val/neg/197_1.txt', '/content/drive/MyDrive/wellington/aclllmdbsmall/val/neg/30_4.txt', '/content/drive/MyDrive/wellington/aclllmdbsmall/val/neg/16_1.txt', '/content/drive/MyDrive/wellington/aclllmdbsmall/val/neg/13_1.txt', '/content/drive/MyDrive/wellington/aclllmdbsmall/val/neg/101_3.txt', '/content/drive/MyDrive/wellington/aclllmdbsmall/val/neg/196_4.txt', '/content/drive/MyDrive/wellington/aclllmdbsmall/val/neg/145_1.txt', '/content/drive/MyDrive/wellington/aclllmdbsmall/val/neg/71_4.txt', '/content/drive/MyDrive/wellington/aclllmdbsmall/val/neg/9_4.txt', '/content/drive/MyDrive/wellington/aclllmdbsmall/val/neg/20_1.txt', '/content/drive/MyDrive/wellington/aclllmdbsmall/val/neg/50_3.txt', '/content/drive/MyDrive/wellington/aclllmdbsmall/val/neg/174_2.txt', '/content/drive/MyDrive/wellington/aclllmdbsmall/val/neg/79_2.txt', '/content/drive/MyDrive/wellington/aclllmdbsmall/val/neg/126_4.txt', '/content/drive/MyDrive/wellington/aclllmdbsmall/val/neg/6_3.txt', '/content/drive/MyDrive/wellington/aclllmdbsmall/val/neg/186_1.txt', '/content/drive/MyDrive/wellington/aclllmdbsmall/val/neg/22_3.txt', '/content/drive/MyDrive/wellington/aclllmdbsmall/val/neg/122_4.txt', '/content/drive/MyDrive/wellington/aclllmdbsmall/val/neg/129_1.txt', '/content/drive/MyDrive/wellington/aclllmdbsmall/val/neg/29_3.txt', '/content/drive/MyDrive/wellington/aclllmdbsmall/val/neg/127_3.txt', '/content/drive/MyDrive/wellington/aclllmdbsmall/val/neg/89_3.txt', '/content/drive/MyDrive/wellington/aclllmdbsmall/val/neg/137_3.txt', '/content/drive/MyDrive/wellington/aclllmdbsmall/val/neg/179_1.txt', '/content/drive/MyDrive/wellington/aclllmdbsmall/val/neg/194_1.txt', '/content/drive/MyDrive/wellington/aclllmdbsmall/val/neg/96_1.txt', '/content/drive/MyDrive/wellington/aclllmdbsmall/val/neg/183_4.txt', '/content/drive/MyDrive/wellington/aclllmdbsmall/val/neg/158_1.txt', '/content/drive/MyDrive/wellington/aclllmdbsmall/val/neg/74_4.txt', '/content/drive/MyDrive/wellington/aclllmdbsmall/val/neg/187_1.txt', '/content/drive/MyDrive/wellington/aclllmdbsmall/val/neg/25_3.txt', '/content/drive/MyDrive/wellington/aclllmdbsmall/val/neg/113_3.txt', '/content/drive/MyDrive/wellington/aclllmdbsmall/val/neg/62_2.txt', '/content/drive/MyDrive/wellington/aclllmdbsmall/val/neg/143_4.txt', '/content/drive/MyDrive/wellington/aclllmdbsmall/val/neg/161_3.txt', '/content/drive/MyDrive/wellington/aclllmdbsmall/val/neg/155_2.txt', '/content/drive/MyDrive/wellington/aclllmdbsmall/val/neg/138_1.txt', '/content/drive/MyDrive/wellington/aclllmdbsmall/val/neg/112_2.txt', '/content/drive/MyDrive/wellington/aclllmdbsmall/val/neg/177_1.txt', '/content/drive/MyDrive/wellington/aclllmdbsmall/val/neg/92_1.txt', '/content/drive/MyDrive/wellington/aclllmdbsmall/val/neg/108_2.txt', '/content/drive/MyDrive/wellington/aclllmdbsmall/val/neg/59_3.txt', '/content/drive/MyDrive/wellington/aclllmdbsmall/val/neg/105_3.txt', '/content/drive/MyDrive/wellington/aclllmdbsmall/val/neg/97_1.txt', '/content/drive/MyDrive/wellington/aclllmdbsmall/val/neg/102_4.txt', '/content/drive/MyDrive/wellington/aclllmdbsmall/val/neg/110_1.txt', '/content/drive/MyDrive/wellington/aclllmdbsmall/val/neg/26_3.txt', '/content/drive/MyDrive/wellington/aclllmdbsmall/val/neg/147_4.txt', '/content/drive/MyDrive/wellington/aclllmdbsmall/val/neg/156_3.txt', '/content/drive/MyDrive/wellington/aclllmdbsmall/val/neg/91_4.txt', '/content/drive/MyDrive/wellington/aclllmdbsmall/val/neg/199_4.txt', '/content/drive/MyDrive/wellington/aclllmdbsmall/val/neg/157_3.txt', '/content/drive/MyDrive/wellington/aclllmdbsmall/val/neg/115_3.txt', '/content/drive/MyDrive/wellington/aclllmdbsmall/val/neg/90_2.txt', '/content/drive/MyDrive/wellington/aclllmdbsmall/val/neg/93_1.txt', '/content/drive/MyDrive/wellington/aclllmdbsmall/val/neg/33_3.txt', '/content/drive/MyDrive/wellington/aclllmdbsmall/val/neg/191_3.txt', '/content/drive/MyDrive/wellington/aclllmdbsmall/val/neg/175_4.txt', '/content/drive/MyDrive/wellington/aclllmdbsmall/val/neg/173_4.txt', '/content/drive/MyDrive/wellington/aclllmdbsmall/val/neg/80_4.txt', '/content/drive/MyDrive/wellington/aclllmdbsmall/val/neg/64_3.txt', '/content/drive/MyDrive/wellington/aclllmdbsmall/val/neg/107_4.txt', '/content/drive/MyDrive/wellington/aclllmdbsmall/val/neg/87_1.txt', '/content/drive/MyDrive/wellington/aclllmdbsmall/val/neg/85_2.txt', '/content/drive/MyDrive/wellington/aclllmdbsmall/val/neg/65_2.txt', '/content/drive/MyDrive/wellington/aclllmdbsmall/val/neg/36_3.txt', '/content/drive/MyDrive/wellington/aclllmdbsmall/val/neg/72_4.txt', '/content/drive/MyDrive/wellington/aclllmdbsmall/val/neg/34_1.txt', '/content/drive/MyDrive/wellington/aclllmdbsmall/val/neg/132_1.txt', '/content/drive/MyDrive/wellington/aclllmdbsmall/val/neg/15_2.txt', '/content/drive/MyDrive/wellington/aclllmdbsmall/val/neg/109_4.txt', '/content/drive/MyDrive/wellington/aclllmdbsmall/val/neg/12_4.txt', '/content/drive/MyDrive/wellington/aclllmdbsmall/val/neg/7_1.txt', '/content/drive/MyDrive/wellington/aclllmdbsmall/val/neg/68_1.txt', '/content/drive/MyDrive/wellington/aclllmdbsmall/val/neg/82_3.txt', '/content/drive/MyDrive/wellington/aclllmdbsmall/val/neg/40_4.txt', '/content/drive/MyDrive/wellington/aclllmdbsmall/val/neg/200_4.txt', '/content/drive/MyDrive/wellington/aclllmdbsmall/val/neg/55_4.txt', '/content/drive/MyDrive/wellington/aclllmdbsmall/val/neg/146_1.txt', '/content/drive/MyDrive/wellington/aclllmdbsmall/val/neg/123_4.txt', '/content/drive/MyDrive/wellington/aclllmdbsmall/val/neg/162_3.txt', '/content/drive/MyDrive/wellington/aclllmdbsmall/val/neg/70_1.txt', '/content/drive/MyDrive/wellington/aclllmdbsmall/val/neg/133_1.txt', '/content/drive/MyDrive/wellington/aclllmdbsmall/val/neg/99_3.txt', '/content/drive/MyDrive/wellington/aclllmdbsmall/val/neg/45_2.txt', '/content/drive/MyDrive/wellington/aclllmdbsmall/val/neg/67_3.txt', '/content/drive/MyDrive/wellington/aclllmdbsmall/val/neg/49_4.txt', '/content/drive/MyDrive/wellington/aclllmdbsmall/val/neg/19_1.txt', '/content/drive/MyDrive/wellington/aclllmdbsmall/val/neg/192_2.txt', '/content/drive/MyDrive/wellington/aclllmdbsmall/val/neg/139_4.txt', '/content/drive/MyDrive/wellington/aclllmdbsmall/val/neg/83_1.txt', '/content/drive/MyDrive/wellington/aclllmdbsmall/val/neg/114_2.txt', '/content/drive/MyDrive/wellington/aclllmdbsmall/val/neg/185_4.txt', '/content/drive/MyDrive/wellington/aclllmdbsmall/val/neg/88_3.txt', '/content/drive/MyDrive/wellington/aclllmdbsmall/val/neg/86_3.txt', '/content/drive/MyDrive/wellington/aclllmdbsmall/val/neg/160_1.txt', '/content/drive/MyDrive/wellington/aclllmdbsmall/val/neg/134_1.txt', '/content/drive/MyDrive/wellington/aclllmdbsmall/val/neg/51_4.txt', '/content/drive/MyDrive/wellington/aclllmdbsmall/val/neg/53_4.txt', '/content/drive/MyDrive/wellington/aclllmdbsmall/val/neg/27_4.txt', '/content/drive/MyDrive/wellington/aclllmdbsmall/val/neg/73_4.txt', '/content/drive/MyDrive/wellington/aclllmdbsmall/val/neg/149_1.txt', '/content/drive/MyDrive/wellington/aclllmdbsmall/val/neg/136_2.txt', '/content/drive/MyDrive/wellington/aclllmdbsmall/val/neg/152_4.txt', '/content/drive/MyDrive/wellington/aclllmdbsmall/val/neg/10_3.txt', '/content/drive/MyDrive/wellington/aclllmdbsmall/val/neg/95_3.txt', '/content/drive/MyDrive/wellington/aclllmdbsmall/val/neg/159_1.txt', '/content/drive/MyDrive/wellington/aclllmdbsmall/val/neg/66_3.txt', '/content/drive/MyDrive/wellington/aclllmdbsmall/val/neg/39_3.txt', '/content/drive/MyDrive/wellington/aclllmdbsmall/val/neg/52_4.txt', '/content/drive/MyDrive/wellington/aclllmdbsmall/val/neg/125_3.txt', '/content/drive/MyDrive/wellington/aclllmdbsmall/val/neg/94_2.txt', '/content/drive/MyDrive/wellington/aclllmdbsmall/val/neg/182_3.txt', '/content/drive/MyDrive/wellington/aclllmdbsmall/val/neg/48_4.txt', '/content/drive/MyDrive/wellington/aclllmdbsmall/val/neg/164_2.txt', '/content/drive/MyDrive/wellington/aclllmdbsmall/val/neg/166_4.txt', '/content/drive/MyDrive/wellington/aclllmdbsmall/val/neg/28_3.txt', '/content/drive/MyDrive/wellington/aclllmdbsmall/val/neg/57_4.txt', '/content/drive/MyDrive/wellington/aclllmdbsmall/val/neg/119_3.txt', '/content/drive/MyDrive/wellington/aclllmdbsmall/val/neg/2_3.txt', '/content/drive/MyDrive/wellington/aclllmdbsmall/val/neg/1_3.txt', '/content/drive/MyDrive/wellington/aclllmdbsmall/val/neg/184_3.txt', '/content/drive/MyDrive/wellington/aclllmdbsmall/val/neg/44_4.txt', '/content/drive/MyDrive/wellington/aclllmdbsmall/val/neg/41_4.txt', '/content/drive/MyDrive/wellington/aclllmdbsmall/val/neg/17_3.txt', '/content/drive/MyDrive/wellington/aclllmdbsmall/val/neg/169_4.txt', '/content/drive/MyDrive/wellington/aclllmdbsmall/val/neg/163_1.txt', '/content/drive/MyDrive/wellington/aclllmdbsmall/val/neg/148_1.txt', '/content/drive/MyDrive/wellington/aclllmdbsmall/val/neg/165_4.txt', '/content/drive/MyDrive/wellington/aclllmdbsmall/val/neg/18_1.txt', '/content/drive/MyDrive/wellington/aclllmdbsmall/val/neg/142_1.txt', '/content/drive/MyDrive/wellington/aclllmdbsmall/val/neg/171_2.txt', '/content/drive/MyDrive/wellington/aclllmdbsmall/val/neg/77_2.txt', '/content/drive/MyDrive/wellington/aclllmdbsmall/val/neg/35_1.txt', '/content/drive/MyDrive/wellington/aclllmdbsmall/val/neg/168_1.txt', '/content/drive/MyDrive/wellington/aclllmdbsmall/val/neg/104_1.txt']\n"
          ]
        },
        {
          "output_type": "execute_result",
          "data": {
            "text/plain": [
              "402"
            ]
          },
          "metadata": {},
          "execution_count": 209
        }
      ]
    },
    {
      "cell_type": "code",
      "metadata": {
        "id": "7g1gz05ccAzg",
        "colab": {
          "base_uri": "https://localhost:8080/"
        },
        "outputId": "0dc863d7-c1ff-4382-d02e-7c95a35c20bb"
      },
      "source": [
        "data = dataset[28]\n",
        "print(tokenizer.decode(data['source_ids']))\n",
        "print(tokenizer.decode(data['target_ids']))"
      ],
      "execution_count": 231,
      "outputs": [
        {
          "output_type": "stream",
          "name": "stdout",
          "text": [
            "This was a excellent movie I deal with a child who I am raising that has FAE and watching this movie was more than word can explain I also purchased the book and it was great I would like to have a copy for my own use and so I can have my sons teachers watch it alsoI would like to know if anyone could sell me a copy of this movie let me use it for a time or refer me to someone where I could purchase it Thank You Myra I would recommend this movie to anyone who deal with childrenadults with special abilitys This movie should be shown again on TV The team of doctors that have been tracking my son would also like to have a copy His special Ed teacher has also asked me to try to locate a copy that he can have or that he can borrowThank You</s> <pad> <pad> <pad> <pad> <pad> <pad> <pad> <pad> <pad> <pad> <pad> <pad> <pad> <pad> <pad> <pad> <pad> <pad> <pad> <pad> <pad> <pad> <pad> <pad> <pad> <pad> <pad> <pad> <pad> <pad> <pad> <pad> <pad> <pad> <pad> <pad> <pad> <pad> <pad> <pad> <pad> <pad> <pad> <pad> <pad> <pad> <pad> <pad> <pad> <pad> <pad> <pad> <pad> <pad> <pad> <pad> <pad> <pad> <pad> <pad> <pad> <pad> <pad> <pad> <pad> <pad> <pad> <pad> <pad> <pad> <pad> <pad> <pad> <pad> <pad> <pad> <pad> <pad> <pad> <pad> <pad> <pad> <pad> <pad> <pad> <pad> <pad> <pad> <pad> <pad> <pad> <pad> <pad> <pad> <pad> <pad> <pad> <pad> <pad> <pad> <pad> <pad> <pad> <pad> <pad> <pad> <pad> <pad> <pad> <pad> <pad> <pad> <pad> <pad> <pad> <pad> <pad> <pad> <pad> <pad> <pad> <pad> <pad> <pad> <pad> <pad> <pad> <pad> <pad> <pad> <pad> <pad> <pad> <pad> <pad> <pad> <pad> <pad> <pad> <pad> <pad> <pad> <pad> <pad> <pad> <pad> <pad> <pad> <pad> <pad> <pad> <pad> <pad> <pad> <pad> <pad> <pad> <pad> <pad> <pad> <pad> <pad> <pad> <pad> <pad> <pad> <pad> <pad> <pad> <pad> <pad> <pad> <pad> <pad> <pad> <pad> <pad> <pad> <pad> <pad> <pad> <pad> <pad> <pad> <pad> <pad> <pad> <pad> <pad> <pad> <pad> <pad> <pad> <pad> <pad> <pad> <pad> <pad> <pad> <pad> <pad> <pad> <pad> <pad> <pad> <pad> <pad> <pad> <pad> <pad> <pad> <pad> <pad> <pad> <pad> <pad> <pad> <pad> <pad> <pad> <pad> <pad> <pad> <pad> <pad> <pad> <pad> <pad> <pad> <pad> <pad> <pad> <pad> <pad> <pad> <pad> <pad> <pad> <pad> <pad> <pad> <pad> <pad> <pad> <pad> <pad> <pad> <pad> <pad> <pad> <pad> <pad> <pad> <pad> <pad> <pad> <pad> <pad> <pad> <pad> <pad> <pad> <pad> <pad> <pad> <pad> <pad> <pad> <pad> <pad> <pad> <pad> <pad> <pad> <pad> <pad> <pad> <pad> <pad> <pad> <pad> <pad> <pad> <pad> <pad> <pad> <pad> <pad> <pad> <pad> <pad> <pad> <pad> <pad> <pad> <pad> <pad> <pad> <pad> <pad> <pad> <pad> <pad> <pad> <pad> <pad> <pad> <pad> <pad> <pad> <pad> <pad> <pad> <pad> <pad> <pad> <pad> <pad> <pad> <pad> <pad> <pad> <pad> <pad> <pad> <pad> <pad> <pad> <pad> <pad> <pad> <pad> <pad> <pad> <pad> <pad> <pad>\n",
            "positive</s>\n"
          ]
        }
      ]
    },
    {
      "cell_type": "code",
      "metadata": {
        "id": "r5ngAP4OXFqZ",
        "colab": {
          "base_uri": "https://localhost:8080/"
        },
        "outputId": "5e467df0-355b-444a-ee1d-eac9fb0b5702"
      },
      "source": [
        "args_dict.update({'data_dir': '/content/drive/MyDrive/wellington/aclllmdbsmall/', 'output_dir': '/content/drive/MyDrive/wellington/t5_imdb_sentiment', 'num_train_epochs':2})\n",
        "args = argparse.Namespace(**args_dict)\n",
        "print(args_dict)\n",
        "\n",
        "checkpoint_callback = pl.callbacks.ModelCheckpoint(\n",
        "    dirpath=args.output_dir, monitor=\"val_loss\", mode=\"min\", save_top_k=5\n",
        ")\n",
        "\n",
        "train_params = dict(\n",
        "    accumulate_grad_batches=args.gradient_accumulation_steps,\n",
        "    gpus=args.n_gpu,\n",
        "    max_epochs=args.num_train_epochs,\n",
        "    #early_stop_callback=False,\n",
        "    precision= 16 if args.fp_16 else 32,\n",
        "    amp_level=args.opt_level,\n",
        "    gradient_clip_val=args.max_grad_norm,\n",
        "    checkpoint_callback=True,\n",
        "    callbacks=[LoggingCallback()],\n",
        ")"
      ],
      "execution_count": 244,
      "outputs": [
        {
          "output_type": "stream",
          "name": "stdout",
          "text": [
            "{'data_dir': '/content/drive/MyDrive/wellington/aclllmdbsmall/', 'output_dir': '/content/drive/MyDrive/wellington/t5_imdb_sentiment', 'model_name_or_path': 't5-base', 'tokenizer_name_or_path': 't5-base', 'max_seq_length': 512, 'learning_rate': 0.0003, 'weight_decay': 0.0, 'adam_epsilon': 1e-08, 'warmup_steps': 0, 'train_batch_size': 1, 'eval_batch_size': 1, 'num_train_epochs': 2, 'gradient_accumulation_steps': 16, 'n_gpu': 1, 'early_stop_callback': False, 'fp_16': False, 'opt_level': 'O1', 'max_grad_norm': 1.0, 'seed': 42}\n"
          ]
        }
      ]
    },
    {
      "cell_type": "code",
      "metadata": {
        "id": "2h2aGPgp0vOf"
      },
      "source": [
        "def get_dataset(tokenizer, type_path, args):\n",
        "  return ImdbDataset(tokenizer=tokenizer, data_dir=args.data_dir, type_path=type_path,  max_len=args.max_seq_length)"
      ],
      "execution_count": 245,
      "outputs": []
    },
    {
      "cell_type": "code",
      "metadata": {
        "id": "Eu0Tscgz5IAF"
      },
      "source": [
        ""
      ],
      "execution_count": null,
      "outputs": []
    },
    {
      "cell_type": "code",
      "metadata": {
        "id": "kJsz3a4SilAF"
      },
      "source": [
        "model = T5FineTuner(args)"
      ],
      "execution_count": 246,
      "outputs": []
    },
    {
      "cell_type": "code",
      "metadata": {
        "id": "PxO8OTA3irbw",
        "colab": {
          "base_uri": "https://localhost:8080/"
        },
        "outputId": "8c55bfcb-6fc8-4e98-9674-a1fea8e5e24e"
      },
      "source": [
        "trainer = pl.Trainer(**train_params)"
      ],
      "execution_count": 247,
      "outputs": [
        {
          "output_type": "stream",
          "name": "stderr",
          "text": [
            "GPU available: True, used: True\n",
            "TPU available: False, using: 0 TPU cores\n",
            "IPU available: False, using: 0 IPUs\n"
          ]
        }
      ]
    },
    {
      "cell_type": "code",
      "metadata": {
        "colab": {
          "base_uri": "https://localhost:8080/"
        },
        "id": "D_VSXeKgKaF0",
        "outputId": "a3d73116-ab66-44f5-b1cb-11c46b5503e1"
      },
      "source": [
        "import torch\n",
        "torch.cuda.empty_cache()\n",
        "import gc\n",
        "gc.collect()"
      ],
      "execution_count": 252,
      "outputs": [
        {
          "output_type": "execute_result",
          "data": {
            "text/plain": [
              "48999"
            ]
          },
          "metadata": {},
          "execution_count": 252
        }
      ]
    },
    {
      "cell_type": "code",
      "metadata": {
        "colab": {
          "base_uri": "https://localhost:8080/",
          "height": 171
        },
        "id": "sUUbjF27KwSl",
        "outputId": "b264c54f-5cc4-4a8c-e446-46d1a39c1739"
      },
      "source": [
        "torch.cuda.memory_summary(device=None, abbreviated=False)"
      ],
      "execution_count": 253,
      "outputs": [
        {
          "output_type": "execute_result",
          "data": {
            "application/vnd.google.colaboratory.intrinsic+json": {
              "type": "string"
            },
            "text/plain": [
              "'|===========================================================================|\\n|                  PyTorch CUDA memory summary, device ID 0                 |\\n|---------------------------------------------------------------------------|\\n|            CUDA OOMs: 16           |        cudaMalloc retries: 20        |\\n|===========================================================================|\\n|        Metric         | Cur Usage  | Peak Usage | Tot Alloc  | Tot Freed  |\\n|---------------------------------------------------------------------------|\\n| Allocated memory      |       0 B  |   10466 MB |    5194 GB |    5194 GB |\\n|       from large pool |       0 B  |   10443 MB |    5160 GB |    5160 GB |\\n|       from small pool |       0 B  |      32 MB |      34 GB |      34 GB |\\n|---------------------------------------------------------------------------|\\n| Active memory         |       0 B  |   10466 MB |    5194 GB |    5194 GB |\\n|       from large pool |       0 B  |   10443 MB |    5160 GB |    5160 GB |\\n|       from small pool |       0 B  |      32 MB |      34 GB |      34 GB |\\n|---------------------------------------------------------------------------|\\n| GPU reserved memory   |   10968 MB |   10970 MB |   58044 MB |   47076 MB |\\n|       from large pool |   10938 MB |   10938 MB |   57854 MB |   46916 MB |\\n|       from small pool |      30 MB |      34 MB |     190 MB |     160 MB |\\n|---------------------------------------------------------------------------|\\n| Non-releasable memory |       0 B  |    1442 MB |    3394 GB |    3394 GB |\\n|       from large pool |       0 B  |    1435 MB |    3359 GB |    3359 GB |\\n|       from small pool |       0 B  |      21 MB |      35 GB |      35 GB |\\n|---------------------------------------------------------------------------|\\n| Allocations           |       0    |    3588    |    3607 K  |    3607 K  |\\n|       from large pool |       0    |    1972    |    1320 K  |    1320 K  |\\n|       from small pool |       0    |    2175    |    2286 K  |    2286 K  |\\n|---------------------------------------------------------------------------|\\n| Active allocs         |       0    |    3588    |    3607 K  |    3607 K  |\\n|       from large pool |       0    |    1972    |    1320 K  |    1320 K  |\\n|       from small pool |       0    |    2175    |    2286 K  |    2286 K  |\\n|---------------------------------------------------------------------------|\\n| GPU reserved segments |     439    |     493    |    2075    |    1636    |\\n|       from large pool |     424    |     480    |    1980    |    1556    |\\n|       from small pool |      15    |      17    |      95    |      80    |\\n|---------------------------------------------------------------------------|\\n| Non-releasable allocs |       0    |     507    |    2372 K  |    2372 K  |\\n|       from large pool |       0    |     330    |    1143 K  |    1143 K  |\\n|       from small pool |       0    |     278    |    1229 K  |    1229 K  |\\n|===========================================================================|\\n'"
            ]
          },
          "metadata": {},
          "execution_count": 253
        }
      ]
    },
    {
      "cell_type": "code",
      "metadata": {
        "colab": {
          "base_uri": "https://localhost:8080/",
          "height": 407,
          "referenced_widgets": [
            "785077ff952d4207a93a978735c4a726",
            "6c359f9790e24822878268f56202d3f1",
            "7a8acdcc50904ce1807af7d39d407035",
            "2ff2fe9b62784e5086493418616ecb88",
            "64bdeac8c835495ea442818265165add",
            "1561c801befa4fb2aba66b15308c9855",
            "fde812a8b1284225b68614faaf4bb425",
            "82064c82a5e04779a799ab9e6512e5f2",
            "9ee037553bab4551998bbafc17807aeb",
            "0e4a3066f3ba46fb9bc7501b85e8a262",
            "22f439b86a834a35b1eb3116c38dedbc",
            "0da3a332b796463394c7441ba28aad14",
            "449330691c7e4d798e34225100746194",
            "d5d6dea4865349488b975ee3f1bda9f9",
            "4b9d7bd81c31478b9c3c6556d183a813",
            "71234e1fcc28476d8861b2e058bc3d6c",
            "e39977e8b1a241cdb7c3b0c61b301faf",
            "a0e1be844dfd4e228d8fa6fc49aa3d1a",
            "65b6df40a20d4beca09474f7c4fdea2c",
            "da98171fec664d61bb91c2e1af7ce7a5",
            "727db4b4645948e9856cdc035cde9b2f",
            "bdf664c6a05240958e92d0da9d9d0bcc",
            "32c25375fc104f64be9e7e1a1dfeecd1",
            "2d28a9686a2c46299695639aa52f5ec4",
            "0536e84c48a344808562c48578333120",
            "26623bd77c004894b054b6e2ecfbd650",
            "9a54c0fa958645c5b61c8ae2a37416c7",
            "a0cbcdd6e21d4428b00408db9c0c5dfd",
            "ed01abe244c44b7a9d8ae55028559019",
            "646576f0f6fb490cb93d52f54bcb90e6",
            "a3b525cf6c644097bfcc3decc485918e",
            "7e64f292cbd1444e9c3049c17235fd6a",
            "9a68e13259074ab7940b4a372717000d",
            "6dec4b3cc297497bb38656f2ea125a31",
            "379bbd86a7ba4a008f2e1e8943bfef21",
            "292938323e384a9696001c055d1ac9c1",
            "474379d454a9475ea2a474a5d33b1d76",
            "e60243b3035e4e7191480bff445fb6dc",
            "a5c1c6721ae243879fc01fbb84537250",
            "34f7eea6cca14cde9c3537c2c3583426",
            "f1dd594950ad4cbdb7bfdef9fbea04d7",
            "99a66286f9db483285c8de6dfb99a9bf",
            "932a45938af244d8a8fef6870b181053",
            "5b8e2cf802ed4923a4964e7e40e71cfc"
          ]
        },
        "id": "5WsSynGOKFT6",
        "outputId": "92c70320-a825-49ce-ae76-d8e93210d26f"
      },
      "source": [
        "trainer.fit(model)"
      ],
      "execution_count": 254,
      "outputs": [
        {
          "output_type": "stream",
          "name": "stderr",
          "text": [
            "/usr/local/lib/python3.7/dist-packages/pytorch_lightning/trainer/configuration_validator.py:86: UserWarning: When using `Trainer(accumulate_grad_batches != 1)` and overriding`LightningModule.optimizer_{step,zero_grad}`, the hooks will not be called on every batch(rather, they are called on every optimization step).\n",
            "  \"When using `Trainer(accumulate_grad_batches != 1)` and overriding\"\n",
            "LOCAL_RANK: 0 - CUDA_VISIBLE_DEVICES: [0]\n",
            "\n",
            "  | Name  | Type                       | Params\n",
            "-----------------------------------------------------\n",
            "0 | model | T5ForConditionalGeneration | 222 M \n",
            "-----------------------------------------------------\n",
            "222 M     Trainable params\n",
            "0         Non-trainable params\n",
            "222 M     Total params\n",
            "891.614   Total estimated model params size (MB)\n"
          ]
        },
        {
          "output_type": "display_data",
          "data": {
            "application/vnd.jupyter.widget-view+json": {
              "model_id": "785077ff952d4207a93a978735c4a726",
              "version_minor": 0,
              "version_major": 2
            },
            "text/plain": [
              "Validation sanity check: 0it [00:00, ?it/s]"
            ]
          },
          "metadata": {}
        },
        {
          "output_type": "stream",
          "name": "stdout",
          "text": [
            "['/content/drive/MyDrive/wellington/aclllmdbsmall/val/pos/122_8.txt', '/content/drive/MyDrive/wellington/aclllmdbsmall/val/pos/110_10.txt', '/content/drive/MyDrive/wellington/aclllmdbsmall/val/pos/16_8.txt', '/content/drive/MyDrive/wellington/aclllmdbsmall/val/pos/27_9.txt', '/content/drive/MyDrive/wellington/aclllmdbsmall/val/pos/146_8.txt', '/content/drive/MyDrive/wellington/aclllmdbsmall/val/pos/121_8.txt', '/content/drive/MyDrive/wellington/aclllmdbsmall/val/pos/130_9.txt', '/content/drive/MyDrive/wellington/aclllmdbsmall/val/pos/177_8.txt', '/content/drive/MyDrive/wellington/aclllmdbsmall/val/pos/187_10.txt', '/content/drive/MyDrive/wellington/aclllmdbsmall/val/pos/42_10.txt', '/content/drive/MyDrive/wellington/aclllmdbsmall/val/pos/102_8.txt', '/content/drive/MyDrive/wellington/aclllmdbsmall/val/pos/77_10.txt', '/content/drive/MyDrive/wellington/aclllmdbsmall/val/pos/125_7.txt', '/content/drive/MyDrive/wellington/aclllmdbsmall/val/pos/149_9.txt', '/content/drive/MyDrive/wellington/aclllmdbsmall/val/pos/46_10.txt', '/content/drive/MyDrive/wellington/aclllmdbsmall/val/pos/163_7.txt', '/content/drive/MyDrive/wellington/aclllmdbsmall/val/pos/199_8.txt', '/content/drive/MyDrive/wellington/aclllmdbsmall/val/pos/15_10.txt', '/content/drive/MyDrive/wellington/aclllmdbsmall/val/pos/65_7.txt', '/content/drive/MyDrive/wellington/aclllmdbsmall/val/pos/0_10.txt', '/content/drive/MyDrive/wellington/aclllmdbsmall/val/pos/195_10.txt', '/content/drive/MyDrive/wellington/aclllmdbsmall/val/pos/107_10.txt', '/content/drive/MyDrive/wellington/aclllmdbsmall/val/pos/79_8.txt', '/content/drive/MyDrive/wellington/aclllmdbsmall/val/pos/105_8.txt', '/content/drive/MyDrive/wellington/aclllmdbsmall/val/pos/136_9.txt', '/content/drive/MyDrive/wellington/aclllmdbsmall/val/pos/64_10.txt', '/content/drive/MyDrive/wellington/aclllmdbsmall/val/pos/171_7.txt', '/content/drive/MyDrive/wellington/aclllmdbsmall/val/pos/198_7.txt', '/content/drive/MyDrive/wellington/aclllmdbsmall/val/pos/85_10.txt', '/content/drive/MyDrive/wellington/aclllmdbsmall/val/pos/137_7.txt', '/content/drive/MyDrive/wellington/aclllmdbsmall/val/pos/104_10.txt', '/content/drive/MyDrive/wellington/aclllmdbsmall/val/pos/28_9.txt', '/content/drive/MyDrive/wellington/aclllmdbsmall/val/pos/118_10.txt', '/content/drive/MyDrive/wellington/aclllmdbsmall/val/pos/59_10.txt', '/content/drive/MyDrive/wellington/aclllmdbsmall/val/pos/62_8.txt', '/content/drive/MyDrive/wellington/aclllmdbsmall/val/pos/170_7.txt', '/content/drive/MyDrive/wellington/aclllmdbsmall/val/pos/119_9.txt', '/content/drive/MyDrive/wellington/aclllmdbsmall/val/pos/47_10.txt', '/content/drive/MyDrive/wellington/aclllmdbsmall/val/pos/67_10.txt', '/content/drive/MyDrive/wellington/aclllmdbsmall/val/pos/25_10.txt', '/content/drive/MyDrive/wellington/aclllmdbsmall/val/pos/197_10.txt', '/content/drive/MyDrive/wellington/aclllmdbsmall/val/pos/192_10.txt', '/content/drive/MyDrive/wellington/aclllmdbsmall/val/pos/91_10.txt', '/content/drive/MyDrive/wellington/aclllmdbsmall/val/pos/93_9.txt', '/content/drive/MyDrive/wellington/aclllmdbsmall/val/pos/44_8.txt', '/content/drive/MyDrive/wellington/aclllmdbsmall/val/pos/133_8.txt', '/content/drive/MyDrive/wellington/aclllmdbsmall/val/pos/74_10.txt', '/content/drive/MyDrive/wellington/aclllmdbsmall/val/pos/70_8.txt', '/content/drive/MyDrive/wellington/aclllmdbsmall/val/pos/157_10.txt', '/content/drive/MyDrive/wellington/aclllmdbsmall/val/pos/175_8.txt', '/content/drive/MyDrive/wellington/aclllmdbsmall/val/pos/86_10.txt', '/content/drive/MyDrive/wellington/aclllmdbsmall/val/pos/165_7.txt', '/content/drive/MyDrive/wellington/aclllmdbsmall/val/pos/100_10.txt', '/content/drive/MyDrive/wellington/aclllmdbsmall/val/pos/160_10.txt', '/content/drive/MyDrive/wellington/aclllmdbsmall/val/pos/6_7.txt', '/content/drive/MyDrive/wellington/aclllmdbsmall/val/pos/117_10.txt', '/content/drive/MyDrive/wellington/aclllmdbsmall/val/pos/178_10.txt', '/content/drive/MyDrive/wellington/aclllmdbsmall/val/pos/169_7.txt', '/content/drive/MyDrive/wellington/aclllmdbsmall/val/pos/115_9.txt', '/content/drive/MyDrive/wellington/aclllmdbsmall/val/pos/114_10.txt', '/content/drive/MyDrive/wellington/aclllmdbsmall/val/pos/39_9.txt', '/content/drive/MyDrive/wellington/aclllmdbsmall/val/pos/144_9.txt', '/content/drive/MyDrive/wellington/aclllmdbsmall/val/pos/159_10.txt', '/content/drive/MyDrive/wellington/aclllmdbsmall/val/pos/113_8.txt', '/content/drive/MyDrive/wellington/aclllmdbsmall/val/pos/43_10.txt', '/content/drive/MyDrive/wellington/aclllmdbsmall/val/pos/152_10.txt', '/content/drive/MyDrive/wellington/aclllmdbsmall/val/pos/84_10.txt', '/content/drive/MyDrive/wellington/aclllmdbsmall/val/pos/80_7.txt', '/content/drive/MyDrive/wellington/aclllmdbsmall/val/pos/101_9.txt', '/content/drive/MyDrive/wellington/aclllmdbsmall/val/pos/123_10.txt', '/content/drive/MyDrive/wellington/aclllmdbsmall/val/pos/90_9.txt', '/content/drive/MyDrive/wellington/aclllmdbsmall/val/pos/19_10.txt', '/content/drive/MyDrive/wellington/aclllmdbsmall/val/pos/41_9.txt', '/content/drive/MyDrive/wellington/aclllmdbsmall/val/pos/36_8.txt', '/content/drive/MyDrive/wellington/aclllmdbsmall/val/pos/176_9.txt', '/content/drive/MyDrive/wellington/aclllmdbsmall/val/pos/8_9.txt', '/content/drive/MyDrive/wellington/aclllmdbsmall/val/pos/154_9.txt', '/content/drive/MyDrive/wellington/aclllmdbsmall/val/pos/76_8.txt', '/content/drive/MyDrive/wellington/aclllmdbsmall/val/pos/56_10.txt', '/content/drive/MyDrive/wellington/aclllmdbsmall/val/pos/92_8.txt', '/content/drive/MyDrive/wellington/aclllmdbsmall/val/pos/196_9.txt', '/content/drive/MyDrive/wellington/aclllmdbsmall/val/pos/50_10.txt', '/content/drive/MyDrive/wellington/aclllmdbsmall/val/pos/55_10.txt', '/content/drive/MyDrive/wellington/aclllmdbsmall/val/pos/161_7.txt', '/content/drive/MyDrive/wellington/aclllmdbsmall/val/pos/48_9.txt', '/content/drive/MyDrive/wellington/aclllmdbsmall/val/pos/124_10.txt', '/content/drive/MyDrive/wellington/aclllmdbsmall/val/pos/158_9.txt', '/content/drive/MyDrive/wellington/aclllmdbsmall/val/pos/2_7.txt', '/content/drive/MyDrive/wellington/aclllmdbsmall/val/pos/51_10.txt', '/content/drive/MyDrive/wellington/aclllmdbsmall/val/pos/78_8.txt', '/content/drive/MyDrive/wellington/aclllmdbsmall/val/pos/98_9.txt', '/content/drive/MyDrive/wellington/aclllmdbsmall/val/pos/153_8.txt', '/content/drive/MyDrive/wellington/aclllmdbsmall/val/pos/99_10.txt', '/content/drive/MyDrive/wellington/aclllmdbsmall/val/pos/4_10.txt', '/content/drive/MyDrive/wellington/aclllmdbsmall/val/pos/1_10.txt', '/content/drive/MyDrive/wellington/aclllmdbsmall/val/pos/150_9.txt', '/content/drive/MyDrive/wellington/aclllmdbsmall/val/pos/81_9.txt', '/content/drive/MyDrive/wellington/aclllmdbsmall/val/pos/145_9.txt', '/content/drive/MyDrive/wellington/aclllmdbsmall/val/pos/109_8.txt', '/content/drive/MyDrive/wellington/aclllmdbsmall/val/pos/132_9.txt', '/content/drive/MyDrive/wellington/aclllmdbsmall/val/pos/167_10.txt', '/content/drive/MyDrive/wellington/aclllmdbsmall/val/pos/184_9.txt', '/content/drive/MyDrive/wellington/aclllmdbsmall/val/pos/193_9.txt', '/content/drive/MyDrive/wellington/aclllmdbsmall/val/pos/22_8.txt', '/content/drive/MyDrive/wellington/aclllmdbsmall/val/pos/148_9.txt', '/content/drive/MyDrive/wellington/aclllmdbsmall/val/pos/128_10.txt', '/content/drive/MyDrive/wellington/aclllmdbsmall/val/pos/37_9.txt', '/content/drive/MyDrive/wellington/aclllmdbsmall/val/pos/14_8.txt', '/content/drive/MyDrive/wellington/aclllmdbsmall/val/pos/140_9.txt', '/content/drive/MyDrive/wellington/aclllmdbsmall/val/pos/138_8.txt', '/content/drive/MyDrive/wellington/aclllmdbsmall/val/pos/181_10.txt', '/content/drive/MyDrive/wellington/aclllmdbsmall/val/pos/32_10.txt', '/content/drive/MyDrive/wellington/aclllmdbsmall/val/pos/95_10.txt', '/content/drive/MyDrive/wellington/aclllmdbsmall/val/pos/108_10.txt', '/content/drive/MyDrive/wellington/aclllmdbsmall/val/pos/173_7.txt', '/content/drive/MyDrive/wellington/aclllmdbsmall/val/pos/45_9.txt', '/content/drive/MyDrive/wellington/aclllmdbsmall/val/pos/112_10.txt', '/content/drive/MyDrive/wellington/aclllmdbsmall/val/pos/200_8.txt', '/content/drive/MyDrive/wellington/aclllmdbsmall/val/pos/3_7.txt', '/content/drive/MyDrive/wellington/aclllmdbsmall/val/pos/58_8.txt', '/content/drive/MyDrive/wellington/aclllmdbsmall/val/pos/190_9.txt', '/content/drive/MyDrive/wellington/aclllmdbsmall/val/pos/155_8.txt', '/content/drive/MyDrive/wellington/aclllmdbsmall/val/pos/12_9.txt', '/content/drive/MyDrive/wellington/aclllmdbsmall/val/pos/34_8.txt', '/content/drive/MyDrive/wellington/aclllmdbsmall/val/pos/83_10.txt', '/content/drive/MyDrive/wellington/aclllmdbsmall/val/pos/194_7.txt', '/content/drive/MyDrive/wellington/aclllmdbsmall/val/pos/72_8.txt', '/content/drive/MyDrive/wellington/aclllmdbsmall/val/pos/97_7.txt', '/content/drive/MyDrive/wellington/aclllmdbsmall/val/pos/7_9.txt', '/content/drive/MyDrive/wellington/aclllmdbsmall/val/pos/10_7.txt', '/content/drive/MyDrive/wellington/aclllmdbsmall/val/pos/57_10.txt', '/content/drive/MyDrive/wellington/aclllmdbsmall/val/pos/53_7.txt', '/content/drive/MyDrive/wellington/aclllmdbsmall/val/pos/49_10.txt', '/content/drive/MyDrive/wellington/aclllmdbsmall/val/pos/61_9.txt', '/content/drive/MyDrive/wellington/aclllmdbsmall/val/pos/131_7.txt', '/content/drive/MyDrive/wellington/aclllmdbsmall/val/pos/141_8.txt', '/content/drive/MyDrive/wellington/aclllmdbsmall/val/pos/9_7.txt', '/content/drive/MyDrive/wellington/aclllmdbsmall/val/pos/68_9.txt', '/content/drive/MyDrive/wellington/aclllmdbsmall/val/pos/182_10.txt', '/content/drive/MyDrive/wellington/aclllmdbsmall/val/pos/96_10.txt', '/content/drive/MyDrive/wellington/aclllmdbsmall/val/pos/180_10.txt', '/content/drive/MyDrive/wellington/aclllmdbsmall/val/pos/71_9.txt', '/content/drive/MyDrive/wellington/aclllmdbsmall/val/pos/13_9.txt', '/content/drive/MyDrive/wellington/aclllmdbsmall/val/pos/38_8.txt', '/content/drive/MyDrive/wellington/aclllmdbsmall/val/pos/129_9.txt', '/content/drive/MyDrive/wellington/aclllmdbsmall/val/pos/172_7.txt', '/content/drive/MyDrive/wellington/aclllmdbsmall/val/pos/139_9.txt', '/content/drive/MyDrive/wellington/aclllmdbsmall/val/pos/111_10.txt', '/content/drive/MyDrive/wellington/aclllmdbsmall/val/pos/52_10.txt', '/content/drive/MyDrive/wellington/aclllmdbsmall/val/pos/29_10.txt', '/content/drive/MyDrive/wellington/aclllmdbsmall/val/pos/156_9.txt', '/content/drive/MyDrive/wellington/aclllmdbsmall/val/pos/73_10.txt', '/content/drive/MyDrive/wellington/aclllmdbsmall/val/pos/188_10.txt', '/content/drive/MyDrive/wellington/aclllmdbsmall/val/pos/183_10.txt', '/content/drive/MyDrive/wellington/aclllmdbsmall/val/pos/21_9.txt', '/content/drive/MyDrive/wellington/aclllmdbsmall/val/pos/60_8.txt', '/content/drive/MyDrive/wellington/aclllmdbsmall/val/pos/174_7.txt', '/content/drive/MyDrive/wellington/aclllmdbsmall/val/pos/143_8.txt', '/content/drive/MyDrive/wellington/aclllmdbsmall/val/pos/30_9.txt', '/content/drive/MyDrive/wellington/aclllmdbsmall/val/pos/186_9.txt', '/content/drive/MyDrive/wellington/aclllmdbsmall/val/pos/127_10.txt', '/content/drive/MyDrive/wellington/aclllmdbsmall/val/pos/20_9.txt', '/content/drive/MyDrive/wellington/aclllmdbsmall/val/pos/40_8.txt', '/content/drive/MyDrive/wellington/aclllmdbsmall/val/pos/179_10.txt', '/content/drive/MyDrive/wellington/aclllmdbsmall/val/pos/5_7.txt', '/content/drive/MyDrive/wellington/aclllmdbsmall/val/pos/166_7.txt', '/content/drive/MyDrive/wellington/aclllmdbsmall/val/pos/142_8.txt', '/content/drive/MyDrive/wellington/aclllmdbsmall/val/pos/33_7.txt', '/content/drive/MyDrive/wellington/aclllmdbsmall/val/pos/135_9.txt', '/content/drive/MyDrive/wellington/aclllmdbsmall/val/pos/189_9.txt', '/content/drive/MyDrive/wellington/aclllmdbsmall/val/pos/17_8.txt', '/content/drive/MyDrive/wellington/aclllmdbsmall/val/pos/11_8.txt', '/content/drive/MyDrive/wellington/aclllmdbsmall/val/pos/147_10.txt', '/content/drive/MyDrive/wellington/aclllmdbsmall/val/pos/120_9.txt', '/content/drive/MyDrive/wellington/aclllmdbsmall/val/pos/31_10.txt', '/content/drive/MyDrive/wellington/aclllmdbsmall/val/pos/168_8.txt', '/content/drive/MyDrive/wellington/aclllmdbsmall/val/pos/162_8.txt', '/content/drive/MyDrive/wellington/aclllmdbsmall/val/pos/23_10.txt', '/content/drive/MyDrive/wellington/aclllmdbsmall/val/pos/69_10.txt', '/content/drive/MyDrive/wellington/aclllmdbsmall/val/pos/116_10.txt', '/content/drive/MyDrive/wellington/aclllmdbsmall/val/pos/88_10.txt', '/content/drive/MyDrive/wellington/aclllmdbsmall/val/pos/35_9.txt', '/content/drive/MyDrive/wellington/aclllmdbsmall/val/pos/134_8.txt', '/content/drive/MyDrive/wellington/aclllmdbsmall/val/pos/87_10.txt', '/content/drive/MyDrive/wellington/aclllmdbsmall/val/pos/151_8.txt', '/content/drive/MyDrive/wellington/aclllmdbsmall/val/pos/94_10.txt', '/content/drive/MyDrive/wellington/aclllmdbsmall/val/pos/82_10.txt', '/content/drive/MyDrive/wellington/aclllmdbsmall/val/pos/63_10.txt', '/content/drive/MyDrive/wellington/aclllmdbsmall/val/pos/66_10.txt', '/content/drive/MyDrive/wellington/aclllmdbsmall/val/pos/75_10.txt', '/content/drive/MyDrive/wellington/aclllmdbsmall/val/pos/126_10.txt', '/content/drive/MyDrive/wellington/aclllmdbsmall/val/pos/103_10.txt', '/content/drive/MyDrive/wellington/aclllmdbsmall/val/pos/89_10.txt', '/content/drive/MyDrive/wellington/aclllmdbsmall/val/pos/191_9.txt', '/content/drive/MyDrive/wellington/aclllmdbsmall/val/pos/106_9.txt', '/content/drive/MyDrive/wellington/aclllmdbsmall/val/pos/54_10.txt', '/content/drive/MyDrive/wellington/aclllmdbsmall/val/pos/185_10.txt', '/content/drive/MyDrive/wellington/aclllmdbsmall/val/pos/164_7.txt', '/content/drive/MyDrive/wellington/aclllmdbsmall/val/pos/18_8.txt', '/content/drive/MyDrive/wellington/aclllmdbsmall/val/pos/26_10.txt', '/content/drive/MyDrive/wellington/aclllmdbsmall/val/pos/24_10.txt']\n",
            "['/content/drive/MyDrive/wellington/aclllmdbsmall/val/neg/193_4.txt', '/content/drive/MyDrive/wellington/aclllmdbsmall/val/neg/69_4.txt', '/content/drive/MyDrive/wellington/aclllmdbsmall/val/neg/128_4.txt', '/content/drive/MyDrive/wellington/aclllmdbsmall/val/neg/103_3.txt', '/content/drive/MyDrive/wellington/aclllmdbsmall/val/neg/106_3.txt', '/content/drive/MyDrive/wellington/aclllmdbsmall/val/neg/100_4.txt', '/content/drive/MyDrive/wellington/aclllmdbsmall/val/neg/60_1.txt', '/content/drive/MyDrive/wellington/aclllmdbsmall/val/neg/5_4.txt', '/content/drive/MyDrive/wellington/aclllmdbsmall/val/neg/14_1.txt', '/content/drive/MyDrive/wellington/aclllmdbsmall/val/neg/63_1.txt', '/content/drive/MyDrive/wellington/aclllmdbsmall/val/neg/21_1.txt', '/content/drive/MyDrive/wellington/aclllmdbsmall/val/neg/118_1.txt', '/content/drive/MyDrive/wellington/aclllmdbsmall/val/neg/43_1.txt', '/content/drive/MyDrive/wellington/aclllmdbsmall/val/neg/170_2.txt', '/content/drive/MyDrive/wellington/aclllmdbsmall/val/neg/42_4.txt', '/content/drive/MyDrive/wellington/aclllmdbsmall/val/neg/76_4.txt', '/content/drive/MyDrive/wellington/aclllmdbsmall/val/neg/32_3.txt', '/content/drive/MyDrive/wellington/aclllmdbsmall/val/neg/24_4.txt', '/content/drive/MyDrive/wellington/aclllmdbsmall/val/neg/144_2.txt', '/content/drive/MyDrive/wellington/aclllmdbsmall/val/neg/46_2.txt', '/content/drive/MyDrive/wellington/aclllmdbsmall/val/neg/167_2.txt', '/content/drive/MyDrive/wellington/aclllmdbsmall/val/neg/180_3.txt', '/content/drive/MyDrive/wellington/aclllmdbsmall/val/neg/117_1.txt', '/content/drive/MyDrive/wellington/aclllmdbsmall/val/neg/124_2.txt', '/content/drive/MyDrive/wellington/aclllmdbsmall/val/neg/176_3.txt', '/content/drive/MyDrive/wellington/aclllmdbsmall/val/neg/178_2.txt', '/content/drive/MyDrive/wellington/aclllmdbsmall/val/neg/81_3.txt', '/content/drive/MyDrive/wellington/aclllmdbsmall/val/neg/23_4.txt', '/content/drive/MyDrive/wellington/aclllmdbsmall/val/neg/38_1.txt', '/content/drive/MyDrive/wellington/aclllmdbsmall/val/neg/37_1.txt', '/content/drive/MyDrive/wellington/aclllmdbsmall/val/neg/8_2.txt', '/content/drive/MyDrive/wellington/aclllmdbsmall/val/neg/54_3.txt', '/content/drive/MyDrive/wellington/aclllmdbsmall/val/neg/120_2.txt', '/content/drive/MyDrive/wellington/aclllmdbsmall/val/neg/141_1.txt', '/content/drive/MyDrive/wellington/aclllmdbsmall/val/neg/111_3.txt', '/content/drive/MyDrive/wellington/aclllmdbsmall/val/neg/181_3.txt', '/content/drive/MyDrive/wellington/aclllmdbsmall/val/neg/31_4.txt', '/content/drive/MyDrive/wellington/aclllmdbsmall/val/neg/140_2.txt', '/content/drive/MyDrive/wellington/aclllmdbsmall/val/neg/116_4.txt', '/content/drive/MyDrive/wellington/aclllmdbsmall/val/neg/98_1.txt', '/content/drive/MyDrive/wellington/aclllmdbsmall/val/neg/11_3.txt', '/content/drive/MyDrive/wellington/aclllmdbsmall/val/neg/189_4.txt', '/content/drive/MyDrive/wellington/aclllmdbsmall/val/neg/198_3.txt', '/content/drive/MyDrive/wellington/aclllmdbsmall/val/neg/4_4.txt', '/content/drive/MyDrive/wellington/aclllmdbsmall/val/neg/131_1.txt', '/content/drive/MyDrive/wellington/aclllmdbsmall/val/neg/56_3.txt', '/content/drive/MyDrive/wellington/aclllmdbsmall/val/neg/84_3.txt', '/content/drive/MyDrive/wellington/aclllmdbsmall/val/neg/172_4.txt', '/content/drive/MyDrive/wellington/aclllmdbsmall/val/neg/190_2.txt', '/content/drive/MyDrive/wellington/aclllmdbsmall/val/neg/135_3.txt', '/content/drive/MyDrive/wellington/aclllmdbsmall/val/neg/150_4.txt', '/content/drive/MyDrive/wellington/aclllmdbsmall/val/neg/130_4.txt', '/content/drive/MyDrive/wellington/aclllmdbsmall/val/neg/153_4.txt', '/content/drive/MyDrive/wellington/aclllmdbsmall/val/neg/0_2.txt', '/content/drive/MyDrive/wellington/aclllmdbsmall/val/neg/3_4.txt', '/content/drive/MyDrive/wellington/aclllmdbsmall/val/neg/195_4.txt', '/content/drive/MyDrive/wellington/aclllmdbsmall/val/neg/78_1.txt', '/content/drive/MyDrive/wellington/aclllmdbsmall/val/neg/58_3.txt', '/content/drive/MyDrive/wellington/aclllmdbsmall/val/neg/121_4.txt', '/content/drive/MyDrive/wellington/aclllmdbsmall/val/neg/154_2.txt', '/content/drive/MyDrive/wellington/aclllmdbsmall/val/neg/47_2.txt', '/content/drive/MyDrive/wellington/aclllmdbsmall/val/neg/188_3.txt', '/content/drive/MyDrive/wellington/aclllmdbsmall/val/neg/151_2.txt', '/content/drive/MyDrive/wellington/aclllmdbsmall/val/neg/75_1.txt', '/content/drive/MyDrive/wellington/aclllmdbsmall/val/neg/61_1.txt', '/content/drive/MyDrive/wellington/aclllmdbsmall/val/neg/197_1.txt', '/content/drive/MyDrive/wellington/aclllmdbsmall/val/neg/30_4.txt', '/content/drive/MyDrive/wellington/aclllmdbsmall/val/neg/16_1.txt', '/content/drive/MyDrive/wellington/aclllmdbsmall/val/neg/13_1.txt', '/content/drive/MyDrive/wellington/aclllmdbsmall/val/neg/101_3.txt', '/content/drive/MyDrive/wellington/aclllmdbsmall/val/neg/196_4.txt', '/content/drive/MyDrive/wellington/aclllmdbsmall/val/neg/145_1.txt', '/content/drive/MyDrive/wellington/aclllmdbsmall/val/neg/71_4.txt', '/content/drive/MyDrive/wellington/aclllmdbsmall/val/neg/9_4.txt', '/content/drive/MyDrive/wellington/aclllmdbsmall/val/neg/20_1.txt', '/content/drive/MyDrive/wellington/aclllmdbsmall/val/neg/50_3.txt', '/content/drive/MyDrive/wellington/aclllmdbsmall/val/neg/174_2.txt', '/content/drive/MyDrive/wellington/aclllmdbsmall/val/neg/79_2.txt', '/content/drive/MyDrive/wellington/aclllmdbsmall/val/neg/126_4.txt', '/content/drive/MyDrive/wellington/aclllmdbsmall/val/neg/6_3.txt', '/content/drive/MyDrive/wellington/aclllmdbsmall/val/neg/186_1.txt', '/content/drive/MyDrive/wellington/aclllmdbsmall/val/neg/22_3.txt', '/content/drive/MyDrive/wellington/aclllmdbsmall/val/neg/122_4.txt', '/content/drive/MyDrive/wellington/aclllmdbsmall/val/neg/129_1.txt', '/content/drive/MyDrive/wellington/aclllmdbsmall/val/neg/29_3.txt', '/content/drive/MyDrive/wellington/aclllmdbsmall/val/neg/127_3.txt', '/content/drive/MyDrive/wellington/aclllmdbsmall/val/neg/89_3.txt', '/content/drive/MyDrive/wellington/aclllmdbsmall/val/neg/137_3.txt', '/content/drive/MyDrive/wellington/aclllmdbsmall/val/neg/179_1.txt', '/content/drive/MyDrive/wellington/aclllmdbsmall/val/neg/194_1.txt', '/content/drive/MyDrive/wellington/aclllmdbsmall/val/neg/96_1.txt', '/content/drive/MyDrive/wellington/aclllmdbsmall/val/neg/183_4.txt', '/content/drive/MyDrive/wellington/aclllmdbsmall/val/neg/158_1.txt', '/content/drive/MyDrive/wellington/aclllmdbsmall/val/neg/74_4.txt', '/content/drive/MyDrive/wellington/aclllmdbsmall/val/neg/187_1.txt', '/content/drive/MyDrive/wellington/aclllmdbsmall/val/neg/25_3.txt', '/content/drive/MyDrive/wellington/aclllmdbsmall/val/neg/113_3.txt', '/content/drive/MyDrive/wellington/aclllmdbsmall/val/neg/62_2.txt', '/content/drive/MyDrive/wellington/aclllmdbsmall/val/neg/143_4.txt', '/content/drive/MyDrive/wellington/aclllmdbsmall/val/neg/161_3.txt', '/content/drive/MyDrive/wellington/aclllmdbsmall/val/neg/155_2.txt', '/content/drive/MyDrive/wellington/aclllmdbsmall/val/neg/138_1.txt', '/content/drive/MyDrive/wellington/aclllmdbsmall/val/neg/112_2.txt', '/content/drive/MyDrive/wellington/aclllmdbsmall/val/neg/177_1.txt', '/content/drive/MyDrive/wellington/aclllmdbsmall/val/neg/92_1.txt', '/content/drive/MyDrive/wellington/aclllmdbsmall/val/neg/108_2.txt', '/content/drive/MyDrive/wellington/aclllmdbsmall/val/neg/59_3.txt', '/content/drive/MyDrive/wellington/aclllmdbsmall/val/neg/105_3.txt', '/content/drive/MyDrive/wellington/aclllmdbsmall/val/neg/97_1.txt', '/content/drive/MyDrive/wellington/aclllmdbsmall/val/neg/102_4.txt', '/content/drive/MyDrive/wellington/aclllmdbsmall/val/neg/110_1.txt', '/content/drive/MyDrive/wellington/aclllmdbsmall/val/neg/26_3.txt', '/content/drive/MyDrive/wellington/aclllmdbsmall/val/neg/147_4.txt', '/content/drive/MyDrive/wellington/aclllmdbsmall/val/neg/156_3.txt', '/content/drive/MyDrive/wellington/aclllmdbsmall/val/neg/91_4.txt', '/content/drive/MyDrive/wellington/aclllmdbsmall/val/neg/199_4.txt', '/content/drive/MyDrive/wellington/aclllmdbsmall/val/neg/157_3.txt', '/content/drive/MyDrive/wellington/aclllmdbsmall/val/neg/115_3.txt', '/content/drive/MyDrive/wellington/aclllmdbsmall/val/neg/90_2.txt', '/content/drive/MyDrive/wellington/aclllmdbsmall/val/neg/93_1.txt', '/content/drive/MyDrive/wellington/aclllmdbsmall/val/neg/33_3.txt', '/content/drive/MyDrive/wellington/aclllmdbsmall/val/neg/191_3.txt', '/content/drive/MyDrive/wellington/aclllmdbsmall/val/neg/175_4.txt', '/content/drive/MyDrive/wellington/aclllmdbsmall/val/neg/173_4.txt', '/content/drive/MyDrive/wellington/aclllmdbsmall/val/neg/80_4.txt', '/content/drive/MyDrive/wellington/aclllmdbsmall/val/neg/64_3.txt', '/content/drive/MyDrive/wellington/aclllmdbsmall/val/neg/107_4.txt', '/content/drive/MyDrive/wellington/aclllmdbsmall/val/neg/87_1.txt', '/content/drive/MyDrive/wellington/aclllmdbsmall/val/neg/85_2.txt', '/content/drive/MyDrive/wellington/aclllmdbsmall/val/neg/65_2.txt', '/content/drive/MyDrive/wellington/aclllmdbsmall/val/neg/36_3.txt', '/content/drive/MyDrive/wellington/aclllmdbsmall/val/neg/72_4.txt', '/content/drive/MyDrive/wellington/aclllmdbsmall/val/neg/34_1.txt', '/content/drive/MyDrive/wellington/aclllmdbsmall/val/neg/132_1.txt', '/content/drive/MyDrive/wellington/aclllmdbsmall/val/neg/15_2.txt', '/content/drive/MyDrive/wellington/aclllmdbsmall/val/neg/109_4.txt', '/content/drive/MyDrive/wellington/aclllmdbsmall/val/neg/12_4.txt', '/content/drive/MyDrive/wellington/aclllmdbsmall/val/neg/7_1.txt', '/content/drive/MyDrive/wellington/aclllmdbsmall/val/neg/68_1.txt', '/content/drive/MyDrive/wellington/aclllmdbsmall/val/neg/82_3.txt', '/content/drive/MyDrive/wellington/aclllmdbsmall/val/neg/40_4.txt', '/content/drive/MyDrive/wellington/aclllmdbsmall/val/neg/200_4.txt', '/content/drive/MyDrive/wellington/aclllmdbsmall/val/neg/55_4.txt', '/content/drive/MyDrive/wellington/aclllmdbsmall/val/neg/146_1.txt', '/content/drive/MyDrive/wellington/aclllmdbsmall/val/neg/123_4.txt', '/content/drive/MyDrive/wellington/aclllmdbsmall/val/neg/162_3.txt', '/content/drive/MyDrive/wellington/aclllmdbsmall/val/neg/70_1.txt', '/content/drive/MyDrive/wellington/aclllmdbsmall/val/neg/133_1.txt', '/content/drive/MyDrive/wellington/aclllmdbsmall/val/neg/99_3.txt', '/content/drive/MyDrive/wellington/aclllmdbsmall/val/neg/45_2.txt', '/content/drive/MyDrive/wellington/aclllmdbsmall/val/neg/67_3.txt', '/content/drive/MyDrive/wellington/aclllmdbsmall/val/neg/49_4.txt', '/content/drive/MyDrive/wellington/aclllmdbsmall/val/neg/19_1.txt', '/content/drive/MyDrive/wellington/aclllmdbsmall/val/neg/192_2.txt', '/content/drive/MyDrive/wellington/aclllmdbsmall/val/neg/139_4.txt', '/content/drive/MyDrive/wellington/aclllmdbsmall/val/neg/83_1.txt', '/content/drive/MyDrive/wellington/aclllmdbsmall/val/neg/114_2.txt', '/content/drive/MyDrive/wellington/aclllmdbsmall/val/neg/185_4.txt', '/content/drive/MyDrive/wellington/aclllmdbsmall/val/neg/88_3.txt', '/content/drive/MyDrive/wellington/aclllmdbsmall/val/neg/86_3.txt', '/content/drive/MyDrive/wellington/aclllmdbsmall/val/neg/160_1.txt', '/content/drive/MyDrive/wellington/aclllmdbsmall/val/neg/134_1.txt', '/content/drive/MyDrive/wellington/aclllmdbsmall/val/neg/51_4.txt', '/content/drive/MyDrive/wellington/aclllmdbsmall/val/neg/53_4.txt', '/content/drive/MyDrive/wellington/aclllmdbsmall/val/neg/27_4.txt', '/content/drive/MyDrive/wellington/aclllmdbsmall/val/neg/73_4.txt', '/content/drive/MyDrive/wellington/aclllmdbsmall/val/neg/149_1.txt', '/content/drive/MyDrive/wellington/aclllmdbsmall/val/neg/136_2.txt', '/content/drive/MyDrive/wellington/aclllmdbsmall/val/neg/152_4.txt', '/content/drive/MyDrive/wellington/aclllmdbsmall/val/neg/10_3.txt', '/content/drive/MyDrive/wellington/aclllmdbsmall/val/neg/95_3.txt', '/content/drive/MyDrive/wellington/aclllmdbsmall/val/neg/159_1.txt', '/content/drive/MyDrive/wellington/aclllmdbsmall/val/neg/66_3.txt', '/content/drive/MyDrive/wellington/aclllmdbsmall/val/neg/39_3.txt', '/content/drive/MyDrive/wellington/aclllmdbsmall/val/neg/52_4.txt', '/content/drive/MyDrive/wellington/aclllmdbsmall/val/neg/125_3.txt', '/content/drive/MyDrive/wellington/aclllmdbsmall/val/neg/94_2.txt', '/content/drive/MyDrive/wellington/aclllmdbsmall/val/neg/182_3.txt', '/content/drive/MyDrive/wellington/aclllmdbsmall/val/neg/48_4.txt', '/content/drive/MyDrive/wellington/aclllmdbsmall/val/neg/164_2.txt', '/content/drive/MyDrive/wellington/aclllmdbsmall/val/neg/166_4.txt', '/content/drive/MyDrive/wellington/aclllmdbsmall/val/neg/28_3.txt', '/content/drive/MyDrive/wellington/aclllmdbsmall/val/neg/57_4.txt', '/content/drive/MyDrive/wellington/aclllmdbsmall/val/neg/119_3.txt', '/content/drive/MyDrive/wellington/aclllmdbsmall/val/neg/2_3.txt', '/content/drive/MyDrive/wellington/aclllmdbsmall/val/neg/1_3.txt', '/content/drive/MyDrive/wellington/aclllmdbsmall/val/neg/184_3.txt', '/content/drive/MyDrive/wellington/aclllmdbsmall/val/neg/44_4.txt', '/content/drive/MyDrive/wellington/aclllmdbsmall/val/neg/41_4.txt', '/content/drive/MyDrive/wellington/aclllmdbsmall/val/neg/17_3.txt', '/content/drive/MyDrive/wellington/aclllmdbsmall/val/neg/169_4.txt', '/content/drive/MyDrive/wellington/aclllmdbsmall/val/neg/163_1.txt', '/content/drive/MyDrive/wellington/aclllmdbsmall/val/neg/148_1.txt', '/content/drive/MyDrive/wellington/aclllmdbsmall/val/neg/165_4.txt', '/content/drive/MyDrive/wellington/aclllmdbsmall/val/neg/18_1.txt', '/content/drive/MyDrive/wellington/aclllmdbsmall/val/neg/142_1.txt', '/content/drive/MyDrive/wellington/aclllmdbsmall/val/neg/171_2.txt', '/content/drive/MyDrive/wellington/aclllmdbsmall/val/neg/77_2.txt', '/content/drive/MyDrive/wellington/aclllmdbsmall/val/neg/35_1.txt', '/content/drive/MyDrive/wellington/aclllmdbsmall/val/neg/168_1.txt', '/content/drive/MyDrive/wellington/aclllmdbsmall/val/neg/104_1.txt']\n"
          ]
        },
        {
          "output_type": "stream",
          "name": "stderr",
          "text": [
            "/usr/local/lib/python3.7/dist-packages/torch/utils/data/dataloader.py:481: UserWarning: This DataLoader will create 4 worker processes in total. Our suggested max number of worker in current system is 2, which is smaller than what this DataLoader is going to create. Please be aware that excessive worker creation might get DataLoader running slow or even freeze, lower the worker number to avoid potential slowness/freeze if necessary.\n",
            "  cpuset_checked))\n"
          ]
        },
        {
          "output_type": "stream",
          "name": "stdout",
          "text": [
            "['/content/drive/MyDrive/wellington/aclllmdbsmall/train/pos/64_10.txt', '/content/drive/MyDrive/wellington/aclllmdbsmall/train/pos/148_9.txt', '/content/drive/MyDrive/wellington/aclllmdbsmall/train/pos/126_10.txt', '/content/drive/MyDrive/wellington/aclllmdbsmall/train/pos/158_9.txt', '/content/drive/MyDrive/wellington/aclllmdbsmall/train/pos/36_8.txt', '/content/drive/MyDrive/wellington/aclllmdbsmall/train/pos/40_8.txt', '/content/drive/MyDrive/wellington/aclllmdbsmall/train/pos/117_10.txt', '/content/drive/MyDrive/wellington/aclllmdbsmall/train/pos/59_10.txt', '/content/drive/MyDrive/wellington/aclllmdbsmall/train/pos/38_8.txt', '/content/drive/MyDrive/wellington/aclllmdbsmall/train/pos/190_9.txt', '/content/drive/MyDrive/wellington/aclllmdbsmall/train/pos/139_9.txt', '/content/drive/MyDrive/wellington/aclllmdbsmall/train/pos/14_8.txt', '/content/drive/MyDrive/wellington/aclllmdbsmall/train/pos/143_8.txt', '/content/drive/MyDrive/wellington/aclllmdbsmall/train/pos/98_9.txt', '/content/drive/MyDrive/wellington/aclllmdbsmall/train/pos/12_9.txt', '/content/drive/MyDrive/wellington/aclllmdbsmall/train/pos/184_9.txt', '/content/drive/MyDrive/wellington/aclllmdbsmall/train/pos/163_7.txt', '/content/drive/MyDrive/wellington/aclllmdbsmall/train/pos/8_9.txt', '/content/drive/MyDrive/wellington/aclllmdbsmall/train/pos/151_8.txt', '/content/drive/MyDrive/wellington/aclllmdbsmall/train/pos/171_7.txt', '/content/drive/MyDrive/wellington/aclllmdbsmall/train/pos/85_10.txt', '/content/drive/MyDrive/wellington/aclllmdbsmall/train/pos/104_10.txt', '/content/drive/MyDrive/wellington/aclllmdbsmall/train/pos/67_10.txt', '/content/drive/MyDrive/wellington/aclllmdbsmall/train/pos/180_10.txt', '/content/drive/MyDrive/wellington/aclllmdbsmall/train/pos/111_10.txt', '/content/drive/MyDrive/wellington/aclllmdbsmall/train/pos/119_9.txt', '/content/drive/MyDrive/wellington/aclllmdbsmall/train/pos/169_7.txt', '/content/drive/MyDrive/wellington/aclllmdbsmall/train/pos/17_8.txt', '/content/drive/MyDrive/wellington/aclllmdbsmall/train/pos/200_8.txt', '/content/drive/MyDrive/wellington/aclllmdbsmall/train/pos/51_10.txt', '/content/drive/MyDrive/wellington/aclllmdbsmall/train/pos/101_9.txt', '/content/drive/MyDrive/wellington/aclllmdbsmall/train/pos/160_10.txt', '/content/drive/MyDrive/wellington/aclllmdbsmall/train/pos/0_10.txt', '/content/drive/MyDrive/wellington/aclllmdbsmall/train/pos/71_9.txt', '/content/drive/MyDrive/wellington/aclllmdbsmall/train/pos/25_10.txt', '/content/drive/MyDrive/wellington/aclllmdbsmall/train/pos/52_10.txt', '/content/drive/MyDrive/wellington/aclllmdbsmall/train/pos/18_8.txt', '/content/drive/MyDrive/wellington/aclllmdbsmall/train/pos/159_10.txt', '/content/drive/MyDrive/wellington/aclllmdbsmall/train/pos/56_10.txt', '/content/drive/MyDrive/wellington/aclllmdbsmall/train/pos/100_10.txt', '/content/drive/MyDrive/wellington/aclllmdbsmall/train/pos/94_10.txt', '/content/drive/MyDrive/wellington/aclllmdbsmall/train/pos/161_7.txt', '/content/drive/MyDrive/wellington/aclllmdbsmall/train/pos/57_10.txt', '/content/drive/MyDrive/wellington/aclllmdbsmall/train/pos/83_10.txt', '/content/drive/MyDrive/wellington/aclllmdbsmall/train/pos/9_7.txt', '/content/drive/MyDrive/wellington/aclllmdbsmall/train/pos/44_8.txt', '/content/drive/MyDrive/wellington/aclllmdbsmall/train/pos/140_9.txt', '/content/drive/MyDrive/wellington/aclllmdbsmall/train/pos/132_9.txt', '/content/drive/MyDrive/wellington/aclllmdbsmall/train/pos/156_9.txt', '/content/drive/MyDrive/wellington/aclllmdbsmall/train/pos/84_10.txt', '/content/drive/MyDrive/wellington/aclllmdbsmall/train/pos/120_9.txt', '/content/drive/MyDrive/wellington/aclllmdbsmall/train/pos/141_8.txt', '/content/drive/MyDrive/wellington/aclllmdbsmall/train/pos/76_8.txt', '/content/drive/MyDrive/wellington/aclllmdbsmall/train/pos/113_8.txt', '/content/drive/MyDrive/wellington/aclllmdbsmall/train/pos/77_10.txt', '/content/drive/MyDrive/wellington/aclllmdbsmall/train/pos/192_10.txt', '/content/drive/MyDrive/wellington/aclllmdbsmall/train/pos/73_10.txt', '/content/drive/MyDrive/wellington/aclllmdbsmall/train/pos/165_7.txt', '/content/drive/MyDrive/wellington/aclllmdbsmall/train/pos/183_10.txt', '/content/drive/MyDrive/wellington/aclllmdbsmall/train/pos/164_7.txt', '/content/drive/MyDrive/wellington/aclllmdbsmall/train/pos/189_9.txt', '/content/drive/MyDrive/wellington/aclllmdbsmall/train/pos/91_10.txt', '/content/drive/MyDrive/wellington/aclllmdbsmall/train/pos/125_7.txt', '/content/drive/MyDrive/wellington/aclllmdbsmall/train/pos/19_10.txt', '/content/drive/MyDrive/wellington/aclllmdbsmall/train/pos/162_8.txt', '/content/drive/MyDrive/wellington/aclllmdbsmall/train/pos/106_9.txt', '/content/drive/MyDrive/wellington/aclllmdbsmall/train/pos/65_7.txt', '/content/drive/MyDrive/wellington/aclllmdbsmall/train/pos/86_10.txt', '/content/drive/MyDrive/wellington/aclllmdbsmall/train/pos/193_9.txt', '/content/drive/MyDrive/wellington/aclllmdbsmall/train/pos/53_7.txt', '/content/drive/MyDrive/wellington/aclllmdbsmall/train/pos/127_10.txt', '/content/drive/MyDrive/wellington/aclllmdbsmall/train/pos/138_8.txt', '/content/drive/MyDrive/wellington/aclllmdbsmall/train/pos/122_8.txt', '/content/drive/MyDrive/wellington/aclllmdbsmall/train/pos/66_10.txt', '/content/drive/MyDrive/wellington/aclllmdbsmall/train/pos/1_10.txt', '/content/drive/MyDrive/wellington/aclllmdbsmall/train/pos/5_7.txt', '/content/drive/MyDrive/wellington/aclllmdbsmall/train/pos/88_10.txt', '/content/drive/MyDrive/wellington/aclllmdbsmall/train/pos/31_10.txt', '/content/drive/MyDrive/wellington/aclllmdbsmall/train/pos/55_10.txt', '/content/drive/MyDrive/wellington/aclllmdbsmall/train/pos/172_7.txt', '/content/drive/MyDrive/wellington/aclllmdbsmall/train/pos/16_8.txt', '/content/drive/MyDrive/wellington/aclllmdbsmall/train/pos/99_10.txt', '/content/drive/MyDrive/wellington/aclllmdbsmall/train/pos/41_9.txt', '/content/drive/MyDrive/wellington/aclllmdbsmall/train/pos/182_10.txt', '/content/drive/MyDrive/wellington/aclllmdbsmall/train/pos/6_7.txt', '/content/drive/MyDrive/wellington/aclllmdbsmall/train/pos/42_10.txt', '/content/drive/MyDrive/wellington/aclllmdbsmall/train/pos/45_9.txt', '/content/drive/MyDrive/wellington/aclllmdbsmall/train/pos/46_10.txt', '/content/drive/MyDrive/wellington/aclllmdbsmall/train/pos/134_8.txt', '/content/drive/MyDrive/wellington/aclllmdbsmall/train/pos/47_10.txt', '/content/drive/MyDrive/wellington/aclllmdbsmall/train/pos/188_10.txt', '/content/drive/MyDrive/wellington/aclllmdbsmall/train/pos/142_8.txt', '/content/drive/MyDrive/wellington/aclllmdbsmall/train/pos/173_7.txt', '/content/drive/MyDrive/wellington/aclllmdbsmall/train/pos/13_9.txt', '/content/drive/MyDrive/wellington/aclllmdbsmall/train/pos/28_9.txt', '/content/drive/MyDrive/wellington/aclllmdbsmall/train/pos/72_8.txt', '/content/drive/MyDrive/wellington/aclllmdbsmall/train/pos/3_7.txt', '/content/drive/MyDrive/wellington/aclllmdbsmall/train/pos/135_9.txt', '/content/drive/MyDrive/wellington/aclllmdbsmall/train/pos/147_10.txt', '/content/drive/MyDrive/wellington/aclllmdbsmall/train/pos/153_8.txt', '/content/drive/MyDrive/wellington/aclllmdbsmall/train/pos/152_10.txt', '/content/drive/MyDrive/wellington/aclllmdbsmall/train/pos/20_9.txt', '/content/drive/MyDrive/wellington/aclllmdbsmall/train/pos/34_8.txt', '/content/drive/MyDrive/wellington/aclllmdbsmall/train/pos/150_9.txt', '/content/drive/MyDrive/wellington/aclllmdbsmall/train/pos/136_9.txt', '/content/drive/MyDrive/wellington/aclllmdbsmall/train/pos/170_7.txt', '/content/drive/MyDrive/wellington/aclllmdbsmall/train/pos/68_9.txt', '/content/drive/MyDrive/wellington/aclllmdbsmall/train/pos/146_8.txt', '/content/drive/MyDrive/wellington/aclllmdbsmall/train/pos/69_10.txt', '/content/drive/MyDrive/wellington/aclllmdbsmall/train/pos/48_9.txt', '/content/drive/MyDrive/wellington/aclllmdbsmall/train/pos/112_10.txt', '/content/drive/MyDrive/wellington/aclllmdbsmall/train/pos/194_7.txt', '/content/drive/MyDrive/wellington/aclllmdbsmall/train/pos/129_9.txt', '/content/drive/MyDrive/wellington/aclllmdbsmall/train/pos/87_10.txt', '/content/drive/MyDrive/wellington/aclllmdbsmall/train/pos/133_8.txt', '/content/drive/MyDrive/wellington/aclllmdbsmall/train/pos/108_10.txt', '/content/drive/MyDrive/wellington/aclllmdbsmall/train/pos/168_8.txt', '/content/drive/MyDrive/wellington/aclllmdbsmall/train/pos/191_9.txt', '/content/drive/MyDrive/wellington/aclllmdbsmall/train/pos/185_10.txt', '/content/drive/MyDrive/wellington/aclllmdbsmall/train/pos/75_10.txt', '/content/drive/MyDrive/wellington/aclllmdbsmall/train/pos/114_10.txt', '/content/drive/MyDrive/wellington/aclllmdbsmall/train/pos/92_8.txt', '/content/drive/MyDrive/wellington/aclllmdbsmall/train/pos/154_9.txt', '/content/drive/MyDrive/wellington/aclllmdbsmall/train/pos/11_8.txt', '/content/drive/MyDrive/wellington/aclllmdbsmall/train/pos/130_9.txt', '/content/drive/MyDrive/wellington/aclllmdbsmall/train/pos/39_9.txt', '/content/drive/MyDrive/wellington/aclllmdbsmall/train/pos/145_9.txt', '/content/drive/MyDrive/wellington/aclllmdbsmall/train/pos/24_10.txt', '/content/drive/MyDrive/wellington/aclllmdbsmall/train/pos/49_10.txt', '/content/drive/MyDrive/wellington/aclllmdbsmall/train/pos/137_7.txt', '/content/drive/MyDrive/wellington/aclllmdbsmall/train/pos/197_10.txt', '/content/drive/MyDrive/wellington/aclllmdbsmall/train/pos/62_8.txt', '/content/drive/MyDrive/wellington/aclllmdbsmall/train/pos/181_10.txt', '/content/drive/MyDrive/wellington/aclllmdbsmall/train/pos/198_7.txt', '/content/drive/MyDrive/wellington/aclllmdbsmall/train/pos/22_8.txt', '/content/drive/MyDrive/wellington/aclllmdbsmall/train/pos/199_8.txt', '/content/drive/MyDrive/wellington/aclllmdbsmall/train/pos/157_10.txt', '/content/drive/MyDrive/wellington/aclllmdbsmall/train/pos/93_9.txt', '/content/drive/MyDrive/wellington/aclllmdbsmall/train/pos/178_10.txt', '/content/drive/MyDrive/wellington/aclllmdbsmall/train/pos/82_10.txt', '/content/drive/MyDrive/wellington/aclllmdbsmall/train/pos/70_8.txt', '/content/drive/MyDrive/wellington/aclllmdbsmall/train/pos/131_7.txt', '/content/drive/MyDrive/wellington/aclllmdbsmall/train/pos/61_9.txt', '/content/drive/MyDrive/wellington/aclllmdbsmall/train/pos/196_9.txt', '/content/drive/MyDrive/wellington/aclllmdbsmall/train/pos/30_9.txt', '/content/drive/MyDrive/wellington/aclllmdbsmall/train/pos/124_10.txt', '/content/drive/MyDrive/wellington/aclllmdbsmall/train/pos/33_7.txt', '/content/drive/MyDrive/wellington/aclllmdbsmall/train/pos/166_7.txt', '/content/drive/MyDrive/wellington/aclllmdbsmall/train/pos/15_10.txt', '/content/drive/MyDrive/wellington/aclllmdbsmall/train/pos/26_10.txt', '/content/drive/MyDrive/wellington/aclllmdbsmall/train/pos/35_9.txt', '/content/drive/MyDrive/wellington/aclllmdbsmall/train/pos/115_9.txt', '/content/drive/MyDrive/wellington/aclllmdbsmall/train/pos/74_10.txt', '/content/drive/MyDrive/wellington/aclllmdbsmall/train/pos/167_10.txt', '/content/drive/MyDrive/wellington/aclllmdbsmall/train/pos/107_10.txt', '/content/drive/MyDrive/wellington/aclllmdbsmall/train/pos/174_7.txt', '/content/drive/MyDrive/wellington/aclllmdbsmall/train/pos/80_7.txt', '/content/drive/MyDrive/wellington/aclllmdbsmall/train/pos/123_10.txt', '/content/drive/MyDrive/wellington/aclllmdbsmall/train/pos/128_10.txt', '/content/drive/MyDrive/wellington/aclllmdbsmall/train/pos/175_8.txt', '/content/drive/MyDrive/wellington/aclllmdbsmall/train/pos/149_9.txt', '/content/drive/MyDrive/wellington/aclllmdbsmall/train/pos/37_9.txt', '/content/drive/MyDrive/wellington/aclllmdbsmall/train/pos/176_9.txt', '/content/drive/MyDrive/wellington/aclllmdbsmall/train/pos/54_10.txt', '/content/drive/MyDrive/wellington/aclllmdbsmall/train/pos/179_10.txt', '/content/drive/MyDrive/wellington/aclllmdbsmall/train/pos/121_8.txt', '/content/drive/MyDrive/wellington/aclllmdbsmall/train/pos/43_10.txt', '/content/drive/MyDrive/wellington/aclllmdbsmall/train/pos/105_8.txt', '/content/drive/MyDrive/wellington/aclllmdbsmall/train/pos/79_8.txt', '/content/drive/MyDrive/wellington/aclllmdbsmall/train/pos/2_7.txt', '/content/drive/MyDrive/wellington/aclllmdbsmall/train/pos/103_10.txt', '/content/drive/MyDrive/wellington/aclllmdbsmall/train/pos/7_9.txt', '/content/drive/MyDrive/wellington/aclllmdbsmall/train/pos/81_9.txt', '/content/drive/MyDrive/wellington/aclllmdbsmall/train/pos/63_10.txt', '/content/drive/MyDrive/wellington/aclllmdbsmall/train/pos/110_10.txt', '/content/drive/MyDrive/wellington/aclllmdbsmall/train/pos/177_8.txt', '/content/drive/MyDrive/wellington/aclllmdbsmall/train/pos/23_10.txt', '/content/drive/MyDrive/wellington/aclllmdbsmall/train/pos/29_10.txt', '/content/drive/MyDrive/wellington/aclllmdbsmall/train/pos/32_10.txt', '/content/drive/MyDrive/wellington/aclllmdbsmall/train/pos/96_10.txt', '/content/drive/MyDrive/wellington/aclllmdbsmall/train/pos/90_9.txt', '/content/drive/MyDrive/wellington/aclllmdbsmall/train/pos/4_10.txt', '/content/drive/MyDrive/wellington/aclllmdbsmall/train/pos/118_10.txt', '/content/drive/MyDrive/wellington/aclllmdbsmall/train/pos/109_8.txt', '/content/drive/MyDrive/wellington/aclllmdbsmall/train/pos/58_8.txt', '/content/drive/MyDrive/wellington/aclllmdbsmall/train/pos/27_9.txt', '/content/drive/MyDrive/wellington/aclllmdbsmall/train/pos/97_7.txt', '/content/drive/MyDrive/wellington/aclllmdbsmall/train/pos/95_10.txt', '/content/drive/MyDrive/wellington/aclllmdbsmall/train/pos/21_9.txt', '/content/drive/MyDrive/wellington/aclllmdbsmall/train/pos/195_10.txt', '/content/drive/MyDrive/wellington/aclllmdbsmall/train/pos/186_9.txt', '/content/drive/MyDrive/wellington/aclllmdbsmall/train/pos/102_8.txt', '/content/drive/MyDrive/wellington/aclllmdbsmall/train/pos/10_7.txt', '/content/drive/MyDrive/wellington/aclllmdbsmall/train/pos/50_10.txt', '/content/drive/MyDrive/wellington/aclllmdbsmall/train/pos/89_10.txt', '/content/drive/MyDrive/wellington/aclllmdbsmall/train/pos/116_10.txt', '/content/drive/MyDrive/wellington/aclllmdbsmall/train/pos/78_8.txt', '/content/drive/MyDrive/wellington/aclllmdbsmall/train/pos/155_8.txt', '/content/drive/MyDrive/wellington/aclllmdbsmall/train/pos/187_10.txt', '/content/drive/MyDrive/wellington/aclllmdbsmall/train/pos/144_9.txt', '/content/drive/MyDrive/wellington/aclllmdbsmall/train/pos/60_8.txt']\n",
            "['/content/drive/MyDrive/wellington/aclllmdbsmall/train/neg/151_2.txt', '/content/drive/MyDrive/wellington/aclllmdbsmall/train/neg/130_4.txt', '/content/drive/MyDrive/wellington/aclllmdbsmall/train/neg/100_4.txt', '/content/drive/MyDrive/wellington/aclllmdbsmall/train/neg/77_2.txt', '/content/drive/MyDrive/wellington/aclllmdbsmall/train/neg/148_1.txt', '/content/drive/MyDrive/wellington/aclllmdbsmall/train/neg/150_4.txt', '/content/drive/MyDrive/wellington/aclllmdbsmall/train/neg/168_1.txt', '/content/drive/MyDrive/wellington/aclllmdbsmall/train/neg/136_2.txt', '/content/drive/MyDrive/wellington/aclllmdbsmall/train/neg/33_3.txt', '/content/drive/MyDrive/wellington/aclllmdbsmall/train/neg/154_2.txt', '/content/drive/MyDrive/wellington/aclllmdbsmall/train/neg/115_3.txt', '/content/drive/MyDrive/wellington/aclllmdbsmall/train/neg/39_3.txt', '/content/drive/MyDrive/wellington/aclllmdbsmall/train/neg/91_4.txt', '/content/drive/MyDrive/wellington/aclllmdbsmall/train/neg/17_3.txt', '/content/drive/MyDrive/wellington/aclllmdbsmall/train/neg/79_2.txt', '/content/drive/MyDrive/wellington/aclllmdbsmall/train/neg/149_1.txt', '/content/drive/MyDrive/wellington/aclllmdbsmall/train/neg/2_3.txt', '/content/drive/MyDrive/wellington/aclllmdbsmall/train/neg/54_3.txt', '/content/drive/MyDrive/wellington/aclllmdbsmall/train/neg/86_3.txt', '/content/drive/MyDrive/wellington/aclllmdbsmall/train/neg/80_4.txt', '/content/drive/MyDrive/wellington/aclllmdbsmall/train/neg/88_3.txt', '/content/drive/MyDrive/wellington/aclllmdbsmall/train/neg/4_4.txt', '/content/drive/MyDrive/wellington/aclllmdbsmall/train/neg/63_1.txt', '/content/drive/MyDrive/wellington/aclllmdbsmall/train/neg/16_1.txt', '/content/drive/MyDrive/wellington/aclllmdbsmall/train/neg/72_4.txt', '/content/drive/MyDrive/wellington/aclllmdbsmall/train/neg/55_4.txt', '/content/drive/MyDrive/wellington/aclllmdbsmall/train/neg/56_3.txt', '/content/drive/MyDrive/wellington/aclllmdbsmall/train/neg/48_4.txt', '/content/drive/MyDrive/wellington/aclllmdbsmall/train/neg/122_4.txt', '/content/drive/MyDrive/wellington/aclllmdbsmall/train/neg/1_3.txt', '/content/drive/MyDrive/wellington/aclllmdbsmall/train/neg/178_2.txt', '/content/drive/MyDrive/wellington/aclllmdbsmall/train/neg/21_1.txt', '/content/drive/MyDrive/wellington/aclllmdbsmall/train/neg/41_4.txt', '/content/drive/MyDrive/wellington/aclllmdbsmall/train/neg/35_1.txt', '/content/drive/MyDrive/wellington/aclllmdbsmall/train/neg/101_3.txt', '/content/drive/MyDrive/wellington/aclllmdbsmall/train/neg/174_2.txt', '/content/drive/MyDrive/wellington/aclllmdbsmall/train/neg/74_4.txt', '/content/drive/MyDrive/wellington/aclllmdbsmall/train/neg/83_1.txt', '/content/drive/MyDrive/wellington/aclllmdbsmall/train/neg/141_1.txt', '/content/drive/MyDrive/wellington/aclllmdbsmall/train/neg/183_4.txt', '/content/drive/MyDrive/wellington/aclllmdbsmall/train/neg/153_4.txt', '/content/drive/MyDrive/wellington/aclllmdbsmall/train/neg/42_4.txt', '/content/drive/MyDrive/wellington/aclllmdbsmall/train/neg/177_1.txt', '/content/drive/MyDrive/wellington/aclllmdbsmall/train/neg/61_1.txt', '/content/drive/MyDrive/wellington/aclllmdbsmall/train/neg/163_1.txt', '/content/drive/MyDrive/wellington/aclllmdbsmall/train/neg/161_3.txt', '/content/drive/MyDrive/wellington/aclllmdbsmall/train/neg/144_2.txt', '/content/drive/MyDrive/wellington/aclllmdbsmall/train/neg/107_4.txt', '/content/drive/MyDrive/wellington/aclllmdbsmall/train/neg/167_2.txt', '/content/drive/MyDrive/wellington/aclllmdbsmall/train/neg/38_1.txt', '/content/drive/MyDrive/wellington/aclllmdbsmall/train/neg/140_2.txt', '/content/drive/MyDrive/wellington/aclllmdbsmall/train/neg/60_1.txt', '/content/drive/MyDrive/wellington/aclllmdbsmall/train/neg/155_2.txt', '/content/drive/MyDrive/wellington/aclllmdbsmall/train/neg/135_3.txt', '/content/drive/MyDrive/wellington/aclllmdbsmall/train/neg/113_3.txt', '/content/drive/MyDrive/wellington/aclllmdbsmall/train/neg/40_4.txt', '/content/drive/MyDrive/wellington/aclllmdbsmall/train/neg/125_3.txt', '/content/drive/MyDrive/wellington/aclllmdbsmall/train/neg/111_3.txt', '/content/drive/MyDrive/wellington/aclllmdbsmall/train/neg/7_1.txt', '/content/drive/MyDrive/wellington/aclllmdbsmall/train/neg/3_4.txt', '/content/drive/MyDrive/wellington/aclllmdbsmall/train/neg/142_1.txt', '/content/drive/MyDrive/wellington/aclllmdbsmall/train/neg/129_1.txt', '/content/drive/MyDrive/wellington/aclllmdbsmall/train/neg/118_1.txt', '/content/drive/MyDrive/wellington/aclllmdbsmall/train/neg/106_3.txt', '/content/drive/MyDrive/wellington/aclllmdbsmall/train/neg/137_3.txt', '/content/drive/MyDrive/wellington/aclllmdbsmall/train/neg/87_1.txt', '/content/drive/MyDrive/wellington/aclllmdbsmall/train/neg/170_2.txt', '/content/drive/MyDrive/wellington/aclllmdbsmall/train/neg/169_4.txt', '/content/drive/MyDrive/wellington/aclllmdbsmall/train/neg/31_4.txt', '/content/drive/MyDrive/wellington/aclllmdbsmall/train/neg/30_4.txt', '/content/drive/MyDrive/wellington/aclllmdbsmall/train/neg/19_1.txt', '/content/drive/MyDrive/wellington/aclllmdbsmall/train/neg/97_1.txt', '/content/drive/MyDrive/wellington/aclllmdbsmall/train/neg/145_1.txt', '/content/drive/MyDrive/wellington/aclllmdbsmall/train/neg/179_1.txt', '/content/drive/MyDrive/wellington/aclllmdbsmall/train/neg/176_3.txt', '/content/drive/MyDrive/wellington/aclllmdbsmall/train/neg/70_1.txt', '/content/drive/MyDrive/wellington/aclllmdbsmall/train/neg/158_1.txt', '/content/drive/MyDrive/wellington/aclllmdbsmall/train/neg/95_3.txt', '/content/drive/MyDrive/wellington/aclllmdbsmall/train/neg/0_2.txt', '/content/drive/MyDrive/wellington/aclllmdbsmall/train/neg/71_4.txt', '/content/drive/MyDrive/wellington/aclllmdbsmall/train/neg/36_3.txt', '/content/drive/MyDrive/wellington/aclllmdbsmall/train/neg/172_4.txt', '/content/drive/MyDrive/wellington/aclllmdbsmall/train/neg/165_4.txt', '/content/drive/MyDrive/wellington/aclllmdbsmall/train/neg/45_2.txt', '/content/drive/MyDrive/wellington/aclllmdbsmall/train/neg/29_3.txt', '/content/drive/MyDrive/wellington/aclllmdbsmall/train/neg/112_2.txt', '/content/drive/MyDrive/wellington/aclllmdbsmall/train/neg/109_4.txt', '/content/drive/MyDrive/wellington/aclllmdbsmall/train/neg/173_4.txt', '/content/drive/MyDrive/wellington/aclllmdbsmall/train/neg/50_3.txt', '/content/drive/MyDrive/wellington/aclllmdbsmall/train/neg/22_3.txt', '/content/drive/MyDrive/wellington/aclllmdbsmall/train/neg/14_1.txt', '/content/drive/MyDrive/wellington/aclllmdbsmall/train/neg/171_2.txt', '/content/drive/MyDrive/wellington/aclllmdbsmall/train/neg/28_3.txt', '/content/drive/MyDrive/wellington/aclllmdbsmall/train/neg/121_4.txt', '/content/drive/MyDrive/wellington/aclllmdbsmall/train/neg/147_4.txt', '/content/drive/MyDrive/wellington/aclllmdbsmall/train/neg/156_3.txt', '/content/drive/MyDrive/wellington/aclllmdbsmall/train/neg/62_2.txt', '/content/drive/MyDrive/wellington/aclllmdbsmall/train/neg/99_3.txt', '/content/drive/MyDrive/wellington/aclllmdbsmall/train/neg/11_3.txt', '/content/drive/MyDrive/wellington/aclllmdbsmall/train/neg/96_1.txt', '/content/drive/MyDrive/wellington/aclllmdbsmall/train/neg/81_3.txt', '/content/drive/MyDrive/wellington/aclllmdbsmall/train/neg/23_4.txt', '/content/drive/MyDrive/wellington/aclllmdbsmall/train/neg/27_4.txt', '/content/drive/MyDrive/wellington/aclllmdbsmall/train/neg/110_1.txt', '/content/drive/MyDrive/wellington/aclllmdbsmall/train/neg/6_3.txt', '/content/drive/MyDrive/wellington/aclllmdbsmall/train/neg/12_4.txt', '/content/drive/MyDrive/wellington/aclllmdbsmall/train/neg/34_1.txt', '/content/drive/MyDrive/wellington/aclllmdbsmall/train/neg/44_4.txt', '/content/drive/MyDrive/wellington/aclllmdbsmall/train/neg/108_2.txt', '/content/drive/MyDrive/wellington/aclllmdbsmall/train/neg/53_4.txt', '/content/drive/MyDrive/wellington/aclllmdbsmall/train/neg/146_1.txt', '/content/drive/MyDrive/wellington/aclllmdbsmall/train/neg/126_4.txt', '/content/drive/MyDrive/wellington/aclllmdbsmall/train/neg/117_1.txt', '/content/drive/MyDrive/wellington/aclllmdbsmall/train/neg/160_1.txt', '/content/drive/MyDrive/wellington/aclllmdbsmall/train/neg/57_4.txt', '/content/drive/MyDrive/wellington/aclllmdbsmall/train/neg/182_3.txt', '/content/drive/MyDrive/wellington/aclllmdbsmall/train/neg/162_3.txt', '/content/drive/MyDrive/wellington/aclllmdbsmall/train/neg/10_3.txt', '/content/drive/MyDrive/wellington/aclllmdbsmall/train/neg/175_4.txt', '/content/drive/MyDrive/wellington/aclllmdbsmall/train/neg/157_3.txt', '/content/drive/MyDrive/wellington/aclllmdbsmall/train/neg/124_2.txt', '/content/drive/MyDrive/wellington/aclllmdbsmall/train/neg/119_3.txt', '/content/drive/MyDrive/wellington/aclllmdbsmall/train/neg/73_4.txt', '/content/drive/MyDrive/wellington/aclllmdbsmall/train/neg/37_1.txt', '/content/drive/MyDrive/wellington/aclllmdbsmall/train/neg/127_3.txt', '/content/drive/MyDrive/wellington/aclllmdbsmall/train/neg/134_1.txt', '/content/drive/MyDrive/wellington/aclllmdbsmall/train/neg/26_3.txt', '/content/drive/MyDrive/wellington/aclllmdbsmall/train/neg/24_4.txt', '/content/drive/MyDrive/wellington/aclllmdbsmall/train/neg/94_2.txt', '/content/drive/MyDrive/wellington/aclllmdbsmall/train/neg/123_4.txt', '/content/drive/MyDrive/wellington/aclllmdbsmall/train/neg/85_2.txt', '/content/drive/MyDrive/wellington/aclllmdbsmall/train/neg/166_4.txt', '/content/drive/MyDrive/wellington/aclllmdbsmall/train/neg/90_2.txt', '/content/drive/MyDrive/wellington/aclllmdbsmall/train/neg/159_1.txt', '/content/drive/MyDrive/wellington/aclllmdbsmall/train/neg/184_3.txt', '/content/drive/MyDrive/wellington/aclllmdbsmall/train/neg/133_1.txt', '/content/drive/MyDrive/wellington/aclllmdbsmall/train/neg/92_1.txt', '/content/drive/MyDrive/wellington/aclllmdbsmall/train/neg/116_4.txt', '/content/drive/MyDrive/wellington/aclllmdbsmall/train/neg/47_2.txt', '/content/drive/MyDrive/wellington/aclllmdbsmall/train/neg/58_3.txt', '/content/drive/MyDrive/wellington/aclllmdbsmall/train/neg/67_3.txt', '/content/drive/MyDrive/wellington/aclllmdbsmall/train/neg/131_1.txt', '/content/drive/MyDrive/wellington/aclllmdbsmall/train/neg/78_1.txt', '/content/drive/MyDrive/wellington/aclllmdbsmall/train/neg/82_3.txt', '/content/drive/MyDrive/wellington/aclllmdbsmall/train/neg/180_3.txt', '/content/drive/MyDrive/wellington/aclllmdbsmall/train/neg/15_2.txt', '/content/drive/MyDrive/wellington/aclllmdbsmall/train/neg/59_3.txt', '/content/drive/MyDrive/wellington/aclllmdbsmall/train/neg/76_4.txt', '/content/drive/MyDrive/wellington/aclllmdbsmall/train/neg/9_4.txt', '/content/drive/MyDrive/wellington/aclllmdbsmall/train/neg/49_4.txt', '/content/drive/MyDrive/wellington/aclllmdbsmall/train/neg/18_1.txt', '/content/drive/MyDrive/wellington/aclllmdbsmall/train/neg/164_2.txt', '/content/drive/MyDrive/wellington/aclllmdbsmall/train/neg/13_1.txt', '/content/drive/MyDrive/wellington/aclllmdbsmall/train/neg/69_4.txt', '/content/drive/MyDrive/wellington/aclllmdbsmall/train/neg/102_4.txt', '/content/drive/MyDrive/wellington/aclllmdbsmall/train/neg/114_2.txt', '/content/drive/MyDrive/wellington/aclllmdbsmall/train/neg/120_2.txt', '/content/drive/MyDrive/wellington/aclllmdbsmall/train/neg/52_4.txt', '/content/drive/MyDrive/wellington/aclllmdbsmall/train/neg/98_1.txt', '/content/drive/MyDrive/wellington/aclllmdbsmall/train/neg/128_4.txt', '/content/drive/MyDrive/wellington/aclllmdbsmall/train/neg/32_3.txt', '/content/drive/MyDrive/wellington/aclllmdbsmall/train/neg/181_3.txt', '/content/drive/MyDrive/wellington/aclllmdbsmall/train/neg/89_3.txt', '/content/drive/MyDrive/wellington/aclllmdbsmall/train/neg/65_2.txt', '/content/drive/MyDrive/wellington/aclllmdbsmall/train/neg/152_4.txt', '/content/drive/MyDrive/wellington/aclllmdbsmall/train/neg/64_3.txt', '/content/drive/MyDrive/wellington/aclllmdbsmall/train/neg/138_1.txt', '/content/drive/MyDrive/wellington/aclllmdbsmall/train/neg/105_3.txt', '/content/drive/MyDrive/wellington/aclllmdbsmall/train/neg/66_3.txt', '/content/drive/MyDrive/wellington/aclllmdbsmall/train/neg/104_1.txt', '/content/drive/MyDrive/wellington/aclllmdbsmall/train/neg/8_2.txt', '/content/drive/MyDrive/wellington/aclllmdbsmall/train/neg/143_4.txt', '/content/drive/MyDrive/wellington/aclllmdbsmall/train/neg/132_1.txt', '/content/drive/MyDrive/wellington/aclllmdbsmall/train/neg/93_1.txt', '/content/drive/MyDrive/wellington/aclllmdbsmall/train/neg/20_1.txt', '/content/drive/MyDrive/wellington/aclllmdbsmall/train/neg/5_4.txt', '/content/drive/MyDrive/wellington/aclllmdbsmall/train/neg/75_1.txt', '/content/drive/MyDrive/wellington/aclllmdbsmall/train/neg/68_1.txt', '/content/drive/MyDrive/wellington/aclllmdbsmall/train/neg/51_4.txt', '/content/drive/MyDrive/wellington/aclllmdbsmall/train/neg/46_2.txt', '/content/drive/MyDrive/wellington/aclllmdbsmall/train/neg/84_3.txt', '/content/drive/MyDrive/wellington/aclllmdbsmall/train/neg/25_3.txt', '/content/drive/MyDrive/wellington/aclllmdbsmall/train/neg/103_3.txt', '/content/drive/MyDrive/wellington/aclllmdbsmall/train/neg/43_1.txt', '/content/drive/MyDrive/wellington/aclllmdbsmall/train/neg/139_4.txt', '/content/drive/MyDrive/wellington/aclllmdbsmall/train/neg/200_4.txt', '/content/drive/MyDrive/wellington/aclllmdbsmall/train/neg/188_3.txt', '/content/drive/MyDrive/wellington/aclllmdbsmall/train/neg/193_4.txt', '/content/drive/MyDrive/wellington/aclllmdbsmall/train/neg/192_2.txt', '/content/drive/MyDrive/wellington/aclllmdbsmall/train/neg/194_1.txt', '/content/drive/MyDrive/wellington/aclllmdbsmall/train/neg/189_4.txt', '/content/drive/MyDrive/wellington/aclllmdbsmall/train/neg/186_1.txt', '/content/drive/MyDrive/wellington/aclllmdbsmall/train/neg/195_4.txt', '/content/drive/MyDrive/wellington/aclllmdbsmall/train/neg/185_4.txt', '/content/drive/MyDrive/wellington/aclllmdbsmall/train/neg/199_4.txt', '/content/drive/MyDrive/wellington/aclllmdbsmall/train/neg/191_3.txt', '/content/drive/MyDrive/wellington/aclllmdbsmall/train/neg/197_1.txt', '/content/drive/MyDrive/wellington/aclllmdbsmall/train/neg/196_4.txt', '/content/drive/MyDrive/wellington/aclllmdbsmall/train/neg/190_2.txt', '/content/drive/MyDrive/wellington/aclllmdbsmall/train/neg/187_1.txt', '/content/drive/MyDrive/wellington/aclllmdbsmall/train/neg/198_3.txt']\n"
          ]
        },
        {
          "output_type": "display_data",
          "data": {
            "application/vnd.jupyter.widget-view+json": {
              "model_id": "0da3a332b796463394c7441ba28aad14",
              "version_minor": 0,
              "version_major": 2
            },
            "text/plain": [
              "Training: -1it [00:00, ?it/s]"
            ]
          },
          "metadata": {}
        },
        {
          "output_type": "display_data",
          "data": {
            "application/vnd.jupyter.widget-view+json": {
              "model_id": "32c25375fc104f64be9e7e1a1dfeecd1",
              "version_minor": 0,
              "version_major": 2
            },
            "text/plain": [
              "Validating: 0it [00:00, ?it/s]"
            ]
          },
          "metadata": {}
        },
        {
          "output_type": "display_data",
          "data": {
            "application/vnd.jupyter.widget-view+json": {
              "model_id": "6dec4b3cc297497bb38656f2ea125a31",
              "version_minor": 0,
              "version_major": 2
            },
            "text/plain": [
              "Validating: 0it [00:00, ?it/s]"
            ]
          },
          "metadata": {}
        }
      ]
    }
  ]
}